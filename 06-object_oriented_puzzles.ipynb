{
 "cells": [
  {
   "cell_type": "markdown",
   "metadata": {},
   "source": [
    "# Puzzle solving using an Object-Oriented interface\n",
    "\n",
    "*Inspired by Raymond Hettinger's talk at PyCon 2019*\n",
    "\n",
    "A number of puzzles can be solved by either depth first search or breadth first search.\n",
    "\n",
    "We present a generic puzzle solver that works on a broad class of puzzles.\n",
    "\n",
    "The core idea is that we need very few things to describe the puzzle in a way that a solver can find a solution:\n",
    "\n",
    "1. We need an initial position (the unsolved puzzle)\n",
    "2. We need a rule (typically an iterator) to generate all possible moves from a position.\n",
    "3. We need to recognize the goal state.\n",
    "\n",
    "Optionally, we can provide some extras:\n",
    "\n",
    "1. a `__repr__` method to display the puzzle position in a way recognizable to us.\n",
    "2. a `isgoal()` method to recognize the goal state, by default set to `self.goal`.\n",
    "\n",
    "For example, the following puzzle is solved for you: note the `__iter__` method using the `yield` keyword to generate neighbouring positions.\n",
    "\n",
    "<div class=\"alert alert-warning\">\n",
    "    <b>Exercice:</b> Two puzzles are given for you to solve: the n-queens problem and the Solitaire problem.<br/>\n",
    "Write the corresponding method so that the solve() method does the tree-search for you.\n",
    "</div>    \n",
    "<div class=\"alert alert-success\">\n",
    "    <b>Information:</b> By default, a breadth-first search is called, which is the safest option when the shortest path solution needs to be found or when some paths have a potential to wander around infinitely (i.e. you can randomly twist a Rubik's cube all day and never come near a solution).<br/>\n",
    "    You may want to switch to depth-first search for the two other puzzles with option <code>solve(depthFirst=True)</code>.\n",
    "</div>    \n",
    "\n",
    "If you get an `IndexError: pop from an empty deque` exception, this means you finished exploring the search without finding a solution: check your `isgoal()` function and that you did not miss anything during the iteration."
   ]
  },
  {
   "cell_type": "code",
   "execution_count": 1,
   "metadata": {
    "tags": []
   },
   "outputs": [
    {
     "output_type": "execute_result",
     "data": {
      "text/plain": "[(0, 0, 8),\n (0, 5, 3),\n (3, 2, 3),\n (0, 2, 6),\n (2, 0, 6),\n (2, 5, 1),\n (3, 4, 1),\n (0, 4, 4)]"
     },
     "metadata": {},
     "execution_count": 1
    }
   ],
   "source": [
    "from puzzle import Puzzle\n",
    "\n",
    "\n",
    "class JugFill(Puzzle):\n",
    "    \"\"\"Given a two empty jugs with 3 and 5 liter capacities and a full\n",
    "       jug with 8 liters, find a sequence of pours leaving four liters\n",
    "       in the two largest jugs.\n",
    "    \"\"\"\n",
    "\n",
    "    # https://dioverdt.files.wordpress.com/2011/01/jugs-problem.gif\n",
    "\n",
    "    pos = (0, 0, 8)\n",
    "\n",
    "    capacity = (3, 5, 8)\n",
    "\n",
    "    goal = (0, 4, 4)\n",
    "\n",
    "    def __iter__(self):\n",
    "        for i in range(len(self.pos)):\n",
    "            for j in range(len(self.pos)):\n",
    "                if i == j:\n",
    "                    continue\n",
    "                qty = min(self.pos[i], self.capacity[j] - self.pos[j])\n",
    "                if not qty: #qty == 0\n",
    "                    continue\n",
    "                dup = list(self.pos)\n",
    "                dup[i] -= qty\n",
    "                dup[j] += qty\n",
    "                yield JugFill(tuple(dup))\n",
    "\n",
    "\n",
    "JugFill().solve()"
   ]
  },
  {
   "cell_type": "code",
   "execution_count": 4,
   "metadata": {
    "tags": []
   },
   "outputs": [
    {
     "output_type": "stream",
     "name": "stdout",
     "text": "\n"
    },
    {
     "output_type": "error",
     "ename": "IndexError",
     "evalue": "pop from an empty deque",
     "traceback": [
      "\u001b[0;31m---------------------------------------------------------------------------\u001b[0m",
      "\u001b[0;31mIndexError\u001b[0m                                Traceback (most recent call last)",
      "\u001b[0;32m<ipython-input-4-c9f86b1d623b>\u001b[0m in \u001b[0;36m<module>\u001b[0;34m\u001b[0m\n\u001b[1;32m     37\u001b[0m \u001b[0;34m\u001b[0m\u001b[0m\n\u001b[1;32m     38\u001b[0m \u001b[0mprint\u001b[0m\u001b[0;34m(\u001b[0m\u001b[0mNQueens\u001b[0m\u001b[0;34m(\u001b[0m\u001b[0;34m)\u001b[0m\u001b[0;34m)\u001b[0m\u001b[0;34m\u001b[0m\u001b[0;34m\u001b[0m\u001b[0m\n\u001b[0;32m---> 39\u001b[0;31m \u001b[0mNQueens\u001b[0m\u001b[0;34m(\u001b[0m\u001b[0;34m)\u001b[0m\u001b[0;34m.\u001b[0m\u001b[0msolve\u001b[0m\u001b[0;34m(\u001b[0m\u001b[0mdepthFirst\u001b[0m\u001b[0;34m=\u001b[0m\u001b[0;32mTrue\u001b[0m\u001b[0;34m)\u001b[0m\u001b[0;34m\u001b[0m\u001b[0;34m\u001b[0m\u001b[0m\n\u001b[0m",
      "\u001b[0;32m/mnt/storage/Documents/ISAE/3A/SDD/back2python/puzzle.py\u001b[0m in \u001b[0;36msolve\u001b[0;34m(pos, depthFirst)\u001b[0m\n\u001b[1;32m     85\u001b[0m                 \u001b[0mtrail\u001b[0m\u001b[0;34m[\u001b[0m\u001b[0mintern\u001b[0m\u001b[0;34m(\u001b[0m\u001b[0mc\u001b[0m\u001b[0;34m)\u001b[0m\u001b[0;34m]\u001b[0m \u001b[0;34m=\u001b[0m \u001b[0mpos\u001b[0m\u001b[0;34m\u001b[0m\u001b[0;34m\u001b[0m\u001b[0m\n\u001b[1;32m     86\u001b[0m                 \u001b[0mload\u001b[0m\u001b[0;34m(\u001b[0m\u001b[0mm\u001b[0m\u001b[0;34m)\u001b[0m\u001b[0;34m\u001b[0m\u001b[0;34m\u001b[0m\u001b[0m\n\u001b[0;32m---> 87\u001b[0;31m             \u001b[0mpos\u001b[0m \u001b[0;34m=\u001b[0m \u001b[0mqueue\u001b[0m\u001b[0;34m.\u001b[0m\u001b[0mpop\u001b[0m\u001b[0;34m(\u001b[0m\u001b[0;34m)\u001b[0m\u001b[0;34m\u001b[0m\u001b[0;34m\u001b[0m\u001b[0m\n\u001b[0m\u001b[1;32m     88\u001b[0m \u001b[0;34m\u001b[0m\u001b[0m\n\u001b[1;32m     89\u001b[0m         \u001b[0;32mwhile\u001b[0m \u001b[0mpos\u001b[0m\u001b[0;34m:\u001b[0m\u001b[0;34m\u001b[0m\u001b[0;34m\u001b[0m\u001b[0m\n",
      "\u001b[0;31mIndexError\u001b[0m: pop from an empty deque"
     ]
    }
   ],
   "source": [
    "# %load solutions/nqueens.py\n",
    "class NQueens(Puzzle):\n",
    "    \"\"\"\n",
    "    - ♛ - - - - - -\n",
    "    - - - ♛ - - - -\n",
    "    - - - - - ♛ - -\n",
    "    - - - - - - - ♛\n",
    "    - - ♛ - - - - -\n",
    "    ♛ - - - - - - -\n",
    "    - - - - - - ♛ -\n",
    "    - - - - ♛ - - -\n",
    "    \n",
    "    Given n=8 queens, place them on an n × n chessboard so that no two queen\n",
    "    attach each other in line, column and diagonal.\n",
    "    \"\"\"\n",
    "\n",
    "    n = 8\n",
    "    pos = tuple()\n",
    "\n",
    "    def isgoal(self):\n",
    "        self.n == len(self.pos)\n",
    "\n",
    "    def __repr__(self):\n",
    "        n = len(self.pos)\n",
    "        return \"\\n\".join(\n",
    "            [\" \".join(\"♛\" if i == self.pos[j] else \"-\" for i in range(n)) for j in range(n)]\n",
    "        )\n",
    "\n",
    "    def __iter__(self):\n",
    "        j = len(self.pos)\n",
    "        for i in range(self.n):\n",
    "            for qi, qj in enumerate(self.pos):\n",
    "                if i != qi and abs(qi - qj) != abs(i - j):\n",
    "                    print(self.__repr__)\n",
    "                    yield NQueens(tuple([*self.pos, i]))\n",
    "\n",
    "\n",
    "print(NQueens())\n",
    "NQueens().solve(depthFirst=True)\n"
   ]
  },
  {
   "cell_type": "code",
   "execution_count": 7,
   "metadata": {},
   "outputs": [],
   "source": [
    "for qi, qj in enumerate(tuple()):\n",
    "    print(f\"{i},{j}\")"
   ]
  },
  {
   "cell_type": "code",
   "execution_count": null,
   "metadata": {},
   "outputs": [],
   "source": [
    "# %load solutions/solitaire.py\n",
    "class Solitaire(Puzzle):\n",
    "    \"\"\"\n",
    "        ·\n",
    "       x x\n",
    "      x x x\n",
    "     x x x x\n",
    "    x x x x x\n",
    "\n",
    "    Starting from the following puzzle, jump the tees like checkers,\n",
    "    one at a time, removing each one you jump, until only one remains.\n",
    "\n",
    "    \"\"\"\n",
    "\n",
    "    pos = (0, 1, 1, 1, 1, 1, 1, 1, 1, 1, 1, 1, 1, 1, 1)\n",
    "\n",
    "    def isgoal(self):\n",
    "        return sum(self.pos) == 1\n",
    "\n",
    "    def __repr__(self):\n",
    "        return \"\"\n",
    "\n",
    "    def __iter__(self):\n",
    "        yield Solitaire(self.pos)\n",
    "    \n",
    "Solitaire().solve()"
   ]
  },
  {
   "cell_type": "code",
   "execution_count": null,
   "metadata": {},
   "outputs": [],
   "source": []
  },
  {
   "cell_type": "code",
   "execution_count": null,
   "metadata": {},
   "outputs": [],
   "source": []
  }
 ],
 "metadata": {
  "kernelspec": {
   "display_name": "Python 3",
   "language": "python",
   "name": "python3"
  },
  "language_info": {
   "codemirror_mode": {
    "name": "ipython",
    "version": 3
   },
   "file_extension": ".py",
   "mimetype": "text/x-python",
   "name": "python",
   "nbconvert_exporter": "python",
   "pygments_lexer": "ipython3",
   "version": "3.8.2-final"
  }
 },
 "nbformat": 4,
 "nbformat_minor": 4
}