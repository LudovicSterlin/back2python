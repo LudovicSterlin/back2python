{
 "cells": [
  {
   "cell_type": "markdown",
   "metadata": {},
   "source": [
    "\n",
    "## La bibliothèque `numpy` de Python\n",
    "\n",
    "`numpy` est une extension du langage Python qui permet de manipuler des tableaux multi-dimensionnels et/ou des matrices.  \n",
    "Elle est souvent utilisée conjointement à l'extension `scipy` qui contient des outils relatifs:\n",
    "\n",
    "- aux intégrateurs numériques (`scipy.integrate`);\n",
    "- à l'algèbre linéaire (`scipy.linalg`);\n",
    "- etc.\n",
    "\n",
    "Des fonctionnalités simples illustrant le fonctionnement de `numpy` sont présentées ci-dessous.  \n",
    "En cas de souci, n'hésitez pas à vous référer à:\n",
    "\n",
    "- la documentation de `numpy` [ici](https://docs.scipy.org/doc/numpy/reference/);\n",
    "- la documentation de `scipy` [ici](https://docs.scipy.org/doc/scipy/reference/) pour ce que vous ne trouvez pas dans `numpy`."
   ]
  },
  {
   "cell_type": "code",
   "execution_count": null,
   "metadata": {},
   "outputs": [],
   "source": [
    "import numpy as np"
   ]
  },
  {
   "cell_type": "markdown",
   "metadata": {},
   "source": [
    "### Types des données embarquées\n",
    "\n",
    "On peut créer un tableau `numpy` à partir d'une structure itérable (tableau, tuple, liste) Python.  \n",
    "La puissance de `numpy` vient du fait que tous les éléments du tableau sont forcés au même type (le moins disant)."
   ]
  },
  {
   "cell_type": "code",
   "execution_count": null,
   "metadata": {},
   "outputs": [],
   "source": [
    "# Définition d'un tableau à partir d'une liste\n",
    "tableau = [2, 7.3, 4]\n",
    "print('>>> Liste Python: type %s' % type(tableau))\n",
    "for l in tableau:\n",
    "    print('{%s, %s}' % (l, type(l)), end=\" \")\n",
    "print()\n",
    "print()\n",
    "\n",
    "# Création d'un tableau numpy\n",
    "tableau = np.array(tableau)\n",
    "print('>>> Tableau numpy: type %s' % type(tableau))\n",
    "for l in tableau:\n",
    "    print('{%s, %s}' % (l, type(l)), end=\" \")\n",
    "print()\n",
    "\n",
    "print('On retrouve alors le type de chaque élément dans dtype: %s' % tableau.dtype)"
   ]
  },
  {
   "cell_type": "markdown",
   "metadata": {},
   "source": [
    "### Performance\n",
    "\n",
    "On reproche souvent à Python d'être lent à l'exécution. C'est dû à de nombreux paramètres, notamment la flexibilité du langage, les nombreuses vérifications faites à notre insu (Python ne présume de rien sur vos données), et surtout au **typage dynamique**.  \n",
    "Avec `numpy`, on connaît désormais une fois pour toute le type de chaque élément du tableau; de plus les opérations mathématiques sur ces tableaux sont alors codées en C (rapide!)\n",
    "\n",
    "Observez plutôt:"
   ]
  },
  {
   "cell_type": "code",
   "execution_count": null,
   "metadata": {},
   "outputs": [],
   "source": [
    "tableau = [i for i in range(1, 10000000)]\n",
    "array = np.array(tableau)"
   ]
  },
  {
   "cell_type": "code",
   "execution_count": null,
   "metadata": {},
   "outputs": [],
   "source": [
    "%timeit double = [x * 2 for x in tableau]"
   ]
  },
  {
   "cell_type": "code",
   "execution_count": null,
   "metadata": {},
   "outputs": [],
   "source": [
    "%timeit double = array * 2"
   ]
  },
  {
   "cell_type": "markdown",
   "metadata": {},
   "source": [
    "### Vues sur des sous-ensembles du tableau\n",
    "\n",
    "Il est possible avec `numpy` de travailler sur des vues d'un tableau à $n$ dimensions qu'on aura construit.  \n",
    "On emploie ici le mot **vue** parce qu'une modification des données dans la vue modifie les données dans le tableau d'origine.\n",
    "\n",
    "Observons plutôt:"
   ]
  },
  {
   "cell_type": "code",
   "execution_count": null,
   "metadata": {},
   "outputs": [],
   "source": [
    "tableau = np.array([[i+2*j for i in range(5)] for j in range(4)])\n",
    "print(tableau)"
   ]
  },
  {
   "cell_type": "code",
   "execution_count": null,
   "metadata": {},
   "outputs": [],
   "source": [
    "# On affiche les lignes d'indices 0 à 1 (< 2), colonnes d'indices 2 à 3 (< 4)\n",
    "sub = tableau[0:2, 2:4]\n",
    "print(sub)"
   ]
  },
  {
   "cell_type": "code",
   "execution_count": null,
   "metadata": {},
   "outputs": [],
   "source": [
    "# L'absence d'indice signifie \"début\" ou \"fin\"\n",
    "sub = tableau[:3, 2:]\n",
    "print(sub)"
   ]
  },
  {
   "cell_type": "code",
   "execution_count": null,
   "metadata": {},
   "outputs": [],
   "source": [
    "# On modifie sub\n",
    "sub *= 0\n",
    "print(sub)"
   ]
  },
  {
   "cell_type": "markdown",
   "metadata": {},
   "source": [
    "<div class=\"alert alert-danger\">\n",
    "<b>Attention</b>: voici pourquoi on parlait de vue !\n",
    "</div>"
   ]
  },
  {
   "cell_type": "code",
   "execution_count": null,
   "metadata": {},
   "outputs": [],
   "source": [
    "print(tableau)"
   ]
  },
  {
   "cell_type": "markdown",
   "metadata": {},
   "source": [
    "### Opérations matricielles\n",
    "\n",
    "`numpy` donne accès aux opérations matricielles de base."
   ]
  },
  {
   "cell_type": "code",
   "execution_count": null,
   "metadata": {},
   "outputs": [],
   "source": [
    "a = np.array([[4,6,7,6]])\n",
    "b = np.array([[i+j for i in range(5)] for j in range(4)])\n",
    "\n",
    "print(a.shape, a, sep=\"\\n\")\n",
    "print()\n",
    "print(b.shape, b, sep=\"\\n\")"
   ]
  },
  {
   "cell_type": "code",
   "execution_count": null,
   "metadata": {},
   "outputs": [],
   "source": [
    "# Produit matriciel (ou vectoriel)\n",
    "print(np.dot (a, b))"
   ]
  },
  {
   "cell_type": "markdown",
   "metadata": {},
   "source": [
    "<div class=\"alert alert-danger\">\n",
    "<b>Attention</b>: Contrairement à Matlab, les opérateurs arithmétiques +, -, * sont des opérations terme à terme.\n",
    "</div>\n",
    "\n",
    "Pour bien comprendre la différence:"
   ]
  },
  {
   "cell_type": "code",
   "execution_count": null,
   "metadata": {},
   "outputs": [],
   "source": [
    "import numpy.linalg\n",
    "\n",
    "a = np.array([[abs(i-j) for i in range(5)] for j in range(5)])\n",
    "inv_a = numpy.linalg.inv(a) # L'inverse\n",
    "print(a)\n",
    "print(inv_a)"
   ]
  },
  {
   "cell_type": "code",
   "execution_count": null,
   "metadata": {},
   "outputs": [],
   "source": [
    "print(inv_a * a)\n",
    "print(\"\\nDiantre!!\")"
   ]
  },
  {
   "cell_type": "code",
   "execution_count": null,
   "metadata": {},
   "outputs": [],
   "source": [
    "print(np.dot(inv_a, a))\n",
    "print(\"\\nC'est si facile de se faire avoir...\")"
   ]
  },
  {
   "cell_type": "markdown",
   "metadata": {},
   "source": [
    "<div class=\"alert alert-success\">\n",
    "<b>Note</b>: Depuis Python 3.5, l'opérateur @ est utilisable pour la multiplication de matrice.\n",
    "</div>"
   ]
  },
  {
   "cell_type": "code",
   "execution_count": null,
   "metadata": {},
   "outputs": [],
   "source": [
    "print(inv_a @ a)"
   ]
  },
  {
   "cell_type": "markdown",
   "metadata": {},
   "source": [
    "# La bibliothèque `matplotlib` de Python\n",
    "\n",
    "`matplotlib` propose un ensemble de commandes qui permettent d'afficher des données de manière graphique, d'afficher des lignes, de remplir des zones avec des couleurs, d'ajouter du texte, etc.\n",
    "\n",
    "L'instruction `%matplotlib inline` avant l'import permet de rediriger la sortie graphique vers le notebook."
   ]
  },
  {
   "cell_type": "code",
   "execution_count": null,
   "metadata": {},
   "outputs": [],
   "source": [
    "%matplotlib inline\n",
    "import matplotlib.pyplot as plt"
   ]
  },
  {
   "cell_type": "markdown",
   "metadata": {},
   "source": [
    "L'instruction `plot` prend une série de points en abscisses et une série de points en ordonnées:"
   ]
  },
  {
   "cell_type": "code",
   "execution_count": null,
   "metadata": {},
   "outputs": [],
   "source": [
    "plt.plot([1, 2, 3, 4], [1, 4, 9, 16])"
   ]
  },
  {
   "cell_type": "markdown",
   "metadata": {},
   "source": [
    "Il y a un style par défaut qui est choisi de manière automatique, mais il est possible de sélectionner:\n",
    "    \n",
    "- les couleurs;\n",
    "- le style des points de données;\n",
    "- la longueur des axes;\n",
    "- etc."
   ]
  },
  {
   "cell_type": "code",
   "execution_count": null,
   "metadata": {},
   "outputs": [],
   "source": [
    "plt.plot([1, 2, 3, 4], [1, 4, 9, 16], 'ro-')\n",
    "plt.xlim(0, 6)\n",
    "plt.ylim(0, 20)\n",
    "plt.xlabel(\"Temps\")\n",
    "plt.ylabel(\"Argent\")"
   ]
  },
  {
   "cell_type": "markdown",
   "metadata": {},
   "source": [
    "Il est recommandé d'utiliser `matplotlib` avec des tableaux `numpy`."
   ]
  },
  {
   "cell_type": "code",
   "execution_count": null,
   "metadata": {},
   "outputs": [],
   "source": [
    "# échantillon à 200ms d'intervalle\n",
    "t = np.arange(0., 5., 0.2)\n",
    "\n",
    "# red dashes, blue squares and green triangles\n",
    "plt.plot(t, t, 'r--', t, t**2, 'bs', t, t**3, 'g^')"
   ]
  },
  {
   "cell_type": "markdown",
   "metadata": {},
   "source": [
    "Enfin il est possible d'afficher plusieurs graphes côte à côte.  \n",
    "Notez que l'on peut également gérer la taille de la figure (bitmap) produite."
   ]
  },
  {
   "cell_type": "code",
   "execution_count": null,
   "metadata": {},
   "outputs": [],
   "source": [
    "fig, ax = plt.subplots(ncols=2, nrows=2, figsize=(10, 10))\n",
    "\n",
    "# Vous pouvez choisir des palettes de couleurs « jolies » avec des sites comme celui-ci :\n",
    "# http://paletton.com/#uid=7000u0kllllaFw0g0qFqFg0w0aF\n",
    "\n",
    "ax[0,0].plot(t, np.sin(t), '#aa3939')\n",
    "ax[0,1].plot(t, np.cos(t), '#aa6c39')\n",
    "ax[1,0].plot(t, np.tan(t), '#226666')\n",
    "ax[1,1].plot(t, np.sqrt(t), '#2d882d')"
   ]
  },
  {
   "cell_type": "markdown",
   "metadata": {},
   "source": [
    "Un bon réflexe semble être de commencer tous les plots par:\n",
    "\n",
    "```python\n",
    "fig, ax = plt.subplots()\n",
    "```\n"
   ]
  },
  {
   "cell_type": "markdown",
   "metadata": {},
   "source": [
    "<div class=\"alert alert-warning\">\n",
    "<b>Exercice:</b> Tracer le graphe de la fonction $t \\mapsto e^{-t} \\cdot \\cos(2\\,\\pi\\,t)$ pour $t\\in[0,5]$\n",
    "</div>"
   ]
  },
  {
   "cell_type": "code",
   "execution_count": null,
   "metadata": {},
   "outputs": [],
   "source": []
  },
  {
   "cell_type": "code",
   "execution_count": null,
   "metadata": {},
   "outputs": [],
   "source": [
    "# %load solutions/trace_cos.py"
   ]
  },
  {
   "cell_type": "markdown",
   "metadata": {},
   "source": [
    "<div class=\"alert alert-warning\">\n",
    "<b>Exercice:</b> À partir des coordonnées polaires, produire les coordonnées $(x,y)$ pour la fonction $r=\\sin(5\\,\\theta)$, puis les tracer.\n",
    "</div>\n",
    "\n",
    "<b>Consigne</b> : n'utiliser que des tableaux et des fonctions `numpy` pour produire les données à tracer."
   ]
  },
  {
   "cell_type": "code",
   "execution_count": null,
   "metadata": {},
   "outputs": [],
   "source": []
  },
  {
   "cell_type": "code",
   "execution_count": null,
   "metadata": {},
   "outputs": [],
   "source": [
    "# %load solutions/trace_sin.py"
   ]
  }
 ],
 "metadata": {
  "kernelspec": {
   "display_name": "Python 3",
   "language": "python",
   "name": "python3"
  },
  "language_info": {
   "codemirror_mode": {
    "name": "ipython",
    "version": 3
   },
   "file_extension": ".py",
   "mimetype": "text/x-python",
   "name": "python",
   "nbconvert_exporter": "python",
   "pygments_lexer": "ipython3",
   "version": "3.8.2"
  },
  "widgets": {
   "application/vnd.jupyter.widget-state+json": {
    "state": {},
    "version_major": 2,
    "version_minor": 0
   }
  }
 },
 "nbformat": 4,
 "nbformat_minor": 4
}
