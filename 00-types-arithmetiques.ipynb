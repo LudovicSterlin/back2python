{
 "cells": [
  {
   "cell_type": "markdown",
   "metadata": {},
   "source": [
    "# (Re)prise en main du langage Python\n",
    "\n",
    "Toutes les séances de notre module seront présentées dans des documents au format iPython notebook, associé à l'extension `.ipynb`.  \n",
    "Ce format permet de joindre dans le même document:\n",
    "\n",
    "- du texte dans un format à balises simple, le format [markdown](http://markdowntutorial.com/),\n",
    "- du code à exécuter en [Python](https://docs.python.org/3.8/) (ici la version 3.8),\n",
    "- le résultat des commandes Python à la suite des cellules, que ce soit un résultat textuel ou une image.\n",
    "\n",
    "### À noter\n",
    "Les cellules en jaune (sur le modèle suivant) sont des exercices à faire!\n",
    "<div class=\"alert alert-warning\" style=\"margin-top: 1em\"><b>Exercice</b>: Faire les exercices</div>"
   ]
  },
  {
   "cell_type": "code",
   "execution_count": null,
   "metadata": {},
   "outputs": [],
   "source": [
    "%load_ext lab_black"
   ]
  },
  {
   "cell_type": "markdown",
   "metadata": {},
   "source": [
    "## Quelques éléments de syntaxe Python\n",
    "\n",
    "Python est un langage typé dynamiquement, on n’est donc pas obligé de déclarer le type des variables.  \n",
    "On pourra par exemple exécuter le programme suivant en plaçant le curseur dans la cellule et en tapant `Maj+Enter`."
   ]
  },
  {
   "cell_type": "code",
   "execution_count": null,
   "metadata": {},
   "outputs": [],
   "source": [
    "a: int = 3  # annotation de type (optionnelle, ignorée par le langage)\n",
    "b: float = 4.0\n",
    "c = \"a * b = \"\n",
    "print(c + str(a * b))"
   ]
  },
  {
   "cell_type": "code",
   "execution_count": null,
   "metadata": {},
   "outputs": [],
   "source": [
    "# On pourra préférer cette notation\n",
    "print(\"a * b = {}\".format(a * b))"
   ]
  },
  {
   "cell_type": "code",
   "execution_count": null,
   "metadata": {},
   "outputs": [],
   "source": [
    "# Les f-strings permettent d'évaluer des variables et de les formatter.\n",
    "print(f\"a * b = {a*b}\")\n",
    "# Python 3.8 permet le raccourci suivant\n",
    "print(f\"{a * b = }\")"
   ]
  },
  {
   "cell_type": "markdown",
   "metadata": {},
   "source": [
    "Les annotations (placées après les :) sont ignorées par le langage, qui n'effectue aucune vérification avec. Mais ces annotations peuvent être confortables en tant que commentaires. La seule contrainte pour une annotation est qu'elle doit être syntaxiquement valide en Python. On peut écrire un type (courant), une chaîne de caractères ou n'importe quoi."
   ]
  },
  {
   "cell_type": "code",
   "execution_count": null,
   "metadata": {},
   "outputs": [],
   "source": [
    "angle = float\n",
    "pi: angle = 3.14\n",
    "pi, type(pi)"
   ]
  },
  {
   "cell_type": "markdown",
   "metadata": {},
   "source": [
    "Le vrai type de la valeur n'est pas impacté. On peut alors par exemple utiliser ces annotations pour ajouter des dimensions à des grandeurs physiques"
   ]
  },
  {
   "cell_type": "code",
   "execution_count": null,
   "metadata": {},
   "outputs": [],
   "source": [
    "c: \"m.s^-1\" = 3e8\n",
    "# ou alors\n",
    "speed = float\n",
    "c: speed = 3e8"
   ]
  },
  {
   "cell_type": "markdown",
   "metadata": {},
   "source": [
    "Les opérateurs habituels sur les entiers et les flottants sont disponibles.  \n",
    "La boucle `for` permet de parcourir des objets itérables comme des listes, des tuples etc.  \n",
    "La fonction `range` permet de générer une séquence d’entiers :"
   ]
  },
  {
   "cell_type": "code",
   "execution_count": null,
   "metadata": {
    "scrolled": true
   },
   "outputs": [],
   "source": [
    "for x in range(2, 7):  # le 7 est exclu\n",
    "    print(x)"
   ]
  },
  {
   "cell_type": "markdown",
   "metadata": {},
   "source": [
    "<div class=\"alert alert-danger\">\n",
    "<b>Important :</b> L’indentation est importante en Python. Elle permet de définir les blocs.  \n",
    "</div>\n",
    "La conditionnelle est définie classiquement :"
   ]
  },
  {
   "cell_type": "code",
   "execution_count": null,
   "metadata": {},
   "outputs": [],
   "source": [
    "if a == 3:\n",
    "    print(\"a = 3\")\n",
    "else:\n",
    "    print(\"a = something else...\")"
   ]
  },
  {
   "cell_type": "markdown",
   "metadata": {},
   "source": [
    "Le mot clé pour définir une fonction est `def`.\n",
    "La documentation d'une fonction peut-être écrite au format `__doctest__` en utilisant les triples guillemets.\n",
    "Les exemples d'utilisation indiqués dans la documentation `__doctest__` servent de test unitaire."
   ]
  },
  {
   "cell_type": "code",
   "execution_count": null,
   "metadata": {},
   "outputs": [],
   "source": [
    "def fact(n: int) -> int:\n",
    "    \"\"\"Renvoie la factorielle de n.\n",
    "    \n",
    "    >>> fact(6)\n",
    "    720\n",
    "    >>> [fact(n) for n in range(6)]\n",
    "    [1, 1, 2, 6, 24, 120]\n",
    "    \n",
    "    Si n est négatif, une exception de type ValueError est levée.\n",
    "    >>> fact(-1)\n",
    "    Traceback (most recent call last):\n",
    "        ...\n",
    "    ValueError: n doit être un entier positif\n",
    "    \"\"\"\n",
    "    res = 1\n",
    "    if n < 0:\n",
    "        raise ValueError(\"n doit être un entier positif\")\n",
    "    while n > 0:\n",
    "        res = n * res\n",
    "        n = n - 1\n",
    "    return res"
   ]
  },
  {
   "cell_type": "code",
   "execution_count": null,
   "metadata": {
    "scrolled": true
   },
   "outputs": [],
   "source": [
    "fact(6)"
   ]
  },
  {
   "cell_type": "markdown",
   "metadata": {},
   "source": [
    "Il est important de bien remplir la documentation, on pourrait en avoir besoin par la suite:"
   ]
  },
  {
   "cell_type": "code",
   "execution_count": null,
   "metadata": {},
   "outputs": [],
   "source": [
    "help(fact)"
   ]
  },
  {
   "cell_type": "markdown",
   "metadata": {},
   "source": [
    "La fonction `doctest.testmod()` permet de tester toutes les fonctions d'un module donné (ici `__main__`):"
   ]
  },
  {
   "cell_type": "code",
   "execution_count": null,
   "metadata": {
    "scrolled": true
   },
   "outputs": [],
   "source": [
    "import doctest\n",
    "\n",
    "doctest.testmod()"
   ]
  },
  {
   "cell_type": "markdown",
   "metadata": {},
   "source": [
    "Le format iPython notebook permet également de consulter la documentation dans une pop-up à part:"
   ]
  },
  {
   "cell_type": "code",
   "execution_count": null,
   "metadata": {},
   "outputs": [],
   "source": [
    "?fact"
   ]
  },
  {
   "cell_type": "markdown",
   "metadata": {},
   "source": [
    "## Structures de données\n",
    "\n",
    "Python propose un certain nombres de structures de données de base munies de facilités syntaxiques et algorithmiques.\n",
    "\n",
    "<div class=\"alert alert-success\" style=\"margin-top: 1em\">\n",
    "<b>Règle no.1</b> Tout l'art de la programmation consiste à choisir (et adapter) les bonnes structures de données.\n",
    "</div>\n",
    "\n",
    "### Chaînes de caractères\n",
    "\n",
    "En Python, le type str représente une suite de caractères Unicode. Tous les caractères (y compris les accentués et ceux utilisés dans la plupart des langues connues) peuvent être concaténés dans une chaîne de caractères valide. Seul le caractère antislash \\ doit être doublé\n",
    "car il donne une signification spéciale à certaines séquences de caractères. Le préfixe r\"\" (pour raw) désactive l’interprétation de l’antislash."
   ]
  },
  {
   "cell_type": "code",
   "execution_count": null,
   "metadata": {},
   "outputs": [],
   "source": [
    "str()"
   ]
  },
  {
   "cell_type": "code",
   "execution_count": null,
   "metadata": {},
   "outputs": [],
   "source": [
    "\"bon\" + \"jour\""
   ]
  },
  {
   "cell_type": "code",
   "execution_count": null,
   "metadata": {},
   "outputs": [],
   "source": [
    "a: str = \"\"\"Bonjour\n",
    "à tous\"\"\"\n",
    "\n",
    "a"
   ]
  },
  {
   "cell_type": "code",
   "execution_count": null,
   "metadata": {},
   "outputs": [],
   "source": [
    "a[0]"
   ]
  },
  {
   "cell_type": "code",
   "execution_count": null,
   "metadata": {},
   "outputs": [],
   "source": [
    "a[2:4]"
   ]
  },
  {
   "cell_type": "code",
   "execution_count": null,
   "metadata": {},
   "outputs": [],
   "source": [
    "a[-1]"
   ]
  },
  {
   "cell_type": "code",
   "execution_count": null,
   "metadata": {},
   "outputs": [],
   "source": [
    "a[-8:]"
   ]
  },
  {
   "cell_type": "code",
   "execution_count": null,
   "metadata": {},
   "outputs": [],
   "source": [
    "a = \"heLLo\"\n",
    "(a + \" \") * 2"
   ]
  },
  {
   "cell_type": "code",
   "execution_count": null,
   "metadata": {},
   "outputs": [],
   "source": [
    "len(a)"
   ]
  },
  {
   "cell_type": "code",
   "execution_count": null,
   "metadata": {},
   "outputs": [],
   "source": [
    "a.capitalize()"
   ]
  },
  {
   "cell_type": "code",
   "execution_count": null,
   "metadata": {},
   "outputs": [],
   "source": [
    "\" hello \".strip()"
   ]
  },
  {
   "cell_type": "code",
   "execution_count": null,
   "metadata": {},
   "outputs": [],
   "source": [
    "\"hello y’all\".split()"
   ]
  },
  {
   "cell_type": "markdown",
   "metadata": {},
   "source": [
    "### Tuples\n",
    "\n",
    "Le tuple est une structure de base du langage Python qui concatène des variables de nature hétérogène. Il est défini par l’opérateur virgule. Le tuple est toujours affiché avec des parenthèses. Un tuple a un seul élément doit être terminé par une virgule ; un tuple sans\n",
    "élément s’écrit avec des parenthèses, mais on peut préférer le constructeur explicite."
   ]
  },
  {
   "cell_type": "code",
   "execution_count": null,
   "metadata": {},
   "outputs": [],
   "source": [
    "tuple()"
   ]
  },
  {
   "cell_type": "code",
   "execution_count": null,
   "metadata": {},
   "outputs": [],
   "source": [
    "latlon: tuple = 43.6, 1.45\n",
    "latlon"
   ]
  },
  {
   "cell_type": "code",
   "execution_count": null,
   "metadata": {},
   "outputs": [],
   "source": [
    "1,"
   ]
  },
  {
   "cell_type": "code",
   "execution_count": null,
   "metadata": {},
   "outputs": [],
   "source": [
    "# tuple unpacking\n",
    "lat, lon = latlon\n",
    "lat"
   ]
  },
  {
   "cell_type": "code",
   "execution_count": null,
   "metadata": {},
   "outputs": [],
   "source": [
    "lat, _ = latlon  # variable muette"
   ]
  },
  {
   "cell_type": "markdown",
   "metadata": {},
   "source": [
    "Le déballage requiert autant d’éléments dans la partie gauche que dans la partie droite du signe égal. Si tous les champs ne sont pas nécessaires à gauche, on utilise généralement la variable muette _ . L’opérateur préfixe * permet de grouper plusieurs variables."
   ]
  },
  {
   "cell_type": "code",
   "execution_count": null,
   "metadata": {},
   "outputs": [],
   "source": [
    "dix = tuple(range(10))\n",
    "dix"
   ]
  },
  {
   "cell_type": "code",
   "execution_count": null,
   "metadata": {},
   "outputs": [],
   "source": [
    "zero, *autres, huit, neuf = dix"
   ]
  },
  {
   "cell_type": "code",
   "execution_count": null,
   "metadata": {},
   "outputs": [],
   "source": [
    "zero"
   ]
  },
  {
   "cell_type": "code",
   "execution_count": null,
   "metadata": {},
   "outputs": [],
   "source": [
    "autres"
   ]
  },
  {
   "cell_type": "code",
   "execution_count": null,
   "metadata": {},
   "outputs": [],
   "source": [
    "huit, neuf"
   ]
  },
  {
   "cell_type": "markdown",
   "metadata": {},
   "source": [
    "### Listes\n",
    "\n",
    "La liste est un conteneur séquentiel de valeurs hétérogènes. C’est un objet mutable : on peut en modifier le contenu à tout moment. Cette structure très intuitive, munie d’une algorithmique riche, notamment pour le tri et la recherche est souvent le choix par défaut des débutants pour tous les problèmes qu’ils doivent résoudre."
   ]
  },
  {
   "cell_type": "code",
   "execution_count": null,
   "metadata": {},
   "outputs": [],
   "source": [
    "list()"
   ]
  },
  {
   "cell_type": "code",
   "execution_count": null,
   "metadata": {},
   "outputs": [],
   "source": [
    "a: list = [1, \"deux\", 3.0]"
   ]
  },
  {
   "cell_type": "code",
   "execution_count": null,
   "metadata": {},
   "outputs": [],
   "source": [
    "a[0]"
   ]
  },
  {
   "cell_type": "code",
   "execution_count": null,
   "metadata": {},
   "outputs": [],
   "source": [
    "len(a)"
   ]
  },
  {
   "cell_type": "code",
   "execution_count": null,
   "metadata": {},
   "outputs": [],
   "source": [
    "a.append(1)"
   ]
  },
  {
   "cell_type": "code",
   "execution_count": null,
   "metadata": {},
   "outputs": [],
   "source": [
    "a"
   ]
  },
  {
   "cell_type": "code",
   "execution_count": null,
   "metadata": {},
   "outputs": [],
   "source": [
    "a.count(1)"
   ]
  },
  {
   "cell_type": "code",
   "execution_count": null,
   "metadata": {},
   "outputs": [],
   "source": [
    "3 in a"
   ]
  },
  {
   "cell_type": "code",
   "execution_count": null,
   "metadata": {},
   "outputs": [],
   "source": [
    "a[1] = 2"
   ]
  },
  {
   "cell_type": "code",
   "execution_count": null,
   "metadata": {},
   "outputs": [],
   "source": [
    "a"
   ]
  },
  {
   "cell_type": "code",
   "execution_count": null,
   "metadata": {},
   "outputs": [],
   "source": [
    "a.sort()"
   ]
  },
  {
   "cell_type": "code",
   "execution_count": null,
   "metadata": {},
   "outputs": [],
   "source": [
    "a"
   ]
  },
  {
   "cell_type": "code",
   "execution_count": null,
   "metadata": {},
   "outputs": [],
   "source": [
    "a[1:3]"
   ]
  },
  {
   "cell_type": "markdown",
   "metadata": {},
   "source": [
    "On peut utiliser le mécanisme de *compréhension de liste* pour construire une liste facilement.  \n",
    "Par exemple, pour\n",
    "construire une liste contenant les carrés des valeurs comprises entre 1 et 5 :"
   ]
  },
  {
   "cell_type": "code",
   "execution_count": null,
   "metadata": {},
   "outputs": [],
   "source": [
    "[i for i in range(5)]\n",
    "# similar to list(i for i in range(5))\n",
    "# similar to list(range(5))"
   ]
  },
  {
   "cell_type": "code",
   "execution_count": null,
   "metadata": {},
   "outputs": [],
   "source": [
    "[str(i) for i in range(5)]"
   ]
  },
  {
   "cell_type": "code",
   "execution_count": null,
   "metadata": {},
   "outputs": [],
   "source": [
    "[i ** 2 for i in range(5)]"
   ]
  },
  {
   "cell_type": "code",
   "execution_count": null,
   "metadata": {},
   "outputs": [],
   "source": [
    "[i ** 2 for i in range(5) if i & 1 == 0]  # smarter than i%2 == 0"
   ]
  },
  {
   "cell_type": "code",
   "execution_count": null,
   "metadata": {},
   "outputs": [],
   "source": [
    "[x.upper() for x in \"hello\"]  # even with strings"
   ]
  },
  {
   "cell_type": "markdown",
   "metadata": {},
   "source": [
    "Rappelons également le constructeur `sorted` qui crée une liste triée à partir d'une structure itérable ou d'un générateur:"
   ]
  },
  {
   "cell_type": "code",
   "execution_count": null,
   "metadata": {},
   "outputs": [],
   "source": [
    "sorted(i ** 2 for i in range(-5, 5))"
   ]
  },
  {
   "cell_type": "markdown",
   "metadata": {},
   "source": [
    "### Ensembles\n",
    "\n",
    "L’ensemble (type set) est un conteneur séquentiel d’éléments uniques. On peut créer un ensemble par énumération de valeurs, à partir d’une structure qui permet l’itération (comme une liste, une chaîne de caractères, etc.) ou par compréhension."
   ]
  },
  {
   "cell_type": "code",
   "execution_count": null,
   "metadata": {},
   "outputs": [],
   "source": [
    "set()"
   ]
  },
  {
   "cell_type": "code",
   "execution_count": null,
   "metadata": {},
   "outputs": [],
   "source": [
    "s = {1, 2, 3, 1}\n",
    "s"
   ]
  },
  {
   "cell_type": "code",
   "execution_count": null,
   "metadata": {},
   "outputs": [],
   "source": [
    "set(\"coucou\")"
   ]
  },
  {
   "cell_type": "code",
   "execution_count": null,
   "metadata": {},
   "outputs": [],
   "source": [
    "set(i ** 2 for i in (-2, -1, 0, 1, 2))"
   ]
  },
  {
   "cell_type": "markdown",
   "metadata": {},
   "source": [
    "Un set peut-être modifié en ajoutant ou supprimant des valeurs. L’arithmétique des ensembles est accessible à l’aide des opérateurs usuels pour l’union | , l’intersection & et la différence - . L’opérateur + n’est pas défini."
   ]
  },
  {
   "cell_type": "code",
   "execution_count": null,
   "metadata": {},
   "outputs": [],
   "source": [
    "s"
   ]
  },
  {
   "cell_type": "code",
   "execution_count": null,
   "metadata": {},
   "outputs": [],
   "source": [
    "s.add(4)\n",
    "s"
   ]
  },
  {
   "cell_type": "code",
   "execution_count": null,
   "metadata": {},
   "outputs": [],
   "source": [
    "s.remove(4)\n",
    "s"
   ]
  },
  {
   "cell_type": "code",
   "execution_count": null,
   "metadata": {},
   "outputs": [],
   "source": [
    "s.pop(), s"
   ]
  },
  {
   "cell_type": "code",
   "execution_count": null,
   "metadata": {},
   "outputs": [],
   "source": [
    "s1 = set(range(3))\n",
    "s2 = set(range(0, -3, -1))\n",
    "s1, s2"
   ]
  },
  {
   "cell_type": "code",
   "execution_count": null,
   "metadata": {},
   "outputs": [],
   "source": [
    "s1 | s2  # union"
   ]
  },
  {
   "cell_type": "code",
   "execution_count": null,
   "metadata": {},
   "outputs": [],
   "source": [
    "s1 & s2  # intersection"
   ]
  },
  {
   "cell_type": "code",
   "execution_count": null,
   "metadata": {},
   "outputs": [],
   "source": [
    "s1 - s2  # différence"
   ]
  },
  {
   "cell_type": "markdown",
   "metadata": {},
   "source": [
    "### Dictionnaires\n",
    "\n",
    "Les dictionnaires (type dict ) sont des tables de hash qui fonctionnent sur le modèle clé/valeur. Toutes les valeurs utilisées comme clé doivent être hashable, exactement comme pour les ensembles. Ce sont des structures mutables : on peut librement ajouter de nouvelles clés ou remplacer des valeurs. Comme ils sont utilisés de manière extensive à des emplacements critiques du cœur du langage, les dictionnaires sont particulièrement optimisées en Python."
   ]
  },
  {
   "cell_type": "code",
   "execution_count": null,
   "metadata": {},
   "outputs": [],
   "source": [
    "tour_eiffel = {\n",
    "    \"latitude\": 48.8583,\n",
    "    \"longitude\": 2.2945,\n",
    "    \"nom\": \"Tour Eiffel\",\n",
    "    \"ville\": \"Paris\",\n",
    "}"
   ]
  },
  {
   "cell_type": "code",
   "execution_count": null,
   "metadata": {},
   "outputs": [],
   "source": [
    "tour_eiffel[\"pays\"] = \"France\""
   ]
  },
  {
   "cell_type": "code",
   "execution_count": null,
   "metadata": {},
   "outputs": [],
   "source": [
    "point = dict(latitude=43.6, longitude=1.45)  # équivalent\n",
    "point"
   ]
  },
  {
   "cell_type": "code",
   "execution_count": null,
   "metadata": {},
   "outputs": [],
   "source": [
    "\"latitude\" in point"
   ]
  },
  {
   "cell_type": "markdown",
   "metadata": {},
   "source": [
    "On peut utiliser l’opération .get() qui permet de définir une valeur par défaut si une clé n’est pas présente dans le dictionnaire :"
   ]
  },
  {
   "cell_type": "code",
   "execution_count": null,
   "metadata": {},
   "outputs": [],
   "source": [
    "altitude = point.get(\"altitude\", 0)\n",
    "altitude"
   ]
  },
  {
   "cell_type": "code",
   "execution_count": null,
   "metadata": {},
   "outputs": [],
   "source": [
    "point.keys()"
   ]
  },
  {
   "cell_type": "code",
   "execution_count": null,
   "metadata": {},
   "outputs": [],
   "source": [
    "point.values()"
   ]
  },
  {
   "cell_type": "code",
   "execution_count": null,
   "metadata": {},
   "outputs": [],
   "source": [
    "point.items()"
   ]
  },
  {
   "cell_type": "code",
   "execution_count": null,
   "metadata": {},
   "outputs": [],
   "source": [
    "dict((key.upper(), value) for (key, value) in point.items())"
   ]
  },
  {
   "cell_type": "markdown",
   "metadata": {},
   "source": [
    "L’opérateur préfixe ** permet de décapsuler les dictionnaires. Il est couramment utilisé pour mettre à jour un dictionnaire ou pour en concaténer deux."
   ]
  },
  {
   "cell_type": "code",
   "execution_count": null,
   "metadata": {},
   "outputs": [],
   "source": [
    "{**point, **{\"pays\": \"France\", \"longitude\": 1.45}}"
   ]
  },
  {
   "cell_type": "markdown",
   "metadata": {},
   "source": [
    "<div class=\"alert alert-warning\">\n",
    "<b>Exercice</b>: Construire <b>et documenter</b> une fonction qui calcule la liste des nombres premiers inférieurs ou égaux à n.\n",
    "</div>"
   ]
  },
  {
   "cell_type": "code",
   "execution_count": null,
   "metadata": {},
   "outputs": [],
   "source": [
    "# write your code here!\n"
   ]
  },
  {
   "cell_type": "code",
   "execution_count": null,
   "metadata": {},
   "outputs": [],
   "source": [
    "# %load solutions/prime.py"
   ]
  },
  {
   "cell_type": "code",
   "execution_count": null,
   "metadata": {},
   "outputs": [],
   "source": [
    "\", \".join(str(i) for i in prime(100))"
   ]
  },
  {
   "cell_type": "markdown",
   "metadata": {},
   "source": [
    "\n",
    "<div class=\"alert alert-warning\">\n",
    "<b>Exercice:</b> Écrire un programme qui lit le fichier <code>00-lorem-ipsum.txt</code> et y compte le nombre d’occurrences de chaque mot.\n",
    "</div>\n",
    "\n",
    "On pourra partir du modèle suivant :\n",
    "```python\n",
    "with open(\"data/00-lorem-ipsum.txt\") as f:\n",
    "    print(f.readlines())\n",
    "```"
   ]
  },
  {
   "cell_type": "code",
   "execution_count": null,
   "metadata": {},
   "outputs": [],
   "source": [
    "# write your code here!\n"
   ]
  },
  {
   "cell_type": "code",
   "execution_count": null,
   "metadata": {},
   "outputs": [],
   "source": [
    "# %load solutions/lorem_ipsum.py\n"
   ]
  },
  {
   "cell_type": "code",
   "execution_count": null,
   "metadata": {},
   "outputs": [],
   "source": [
    "# %load solutions/lorem_ipsum_alt.py\n"
   ]
  },
  {
   "cell_type": "code",
   "execution_count": null,
   "metadata": {},
   "outputs": [],
   "source": [
    "# %load solutions/lorem_ipsum_alt2.py\n"
   ]
  },
  {
   "cell_type": "code",
   "execution_count": null,
   "metadata": {},
   "outputs": [],
   "source": []
  }
 ],
 "metadata": {
  "kernelspec": {
   "display_name": "Python 3",
   "language": "python",
   "name": "python3"
  },
  "language_info": {
   "codemirror_mode": {
    "name": "ipython",
    "version": 3
   },
   "file_extension": ".py",
   "mimetype": "text/x-python",
   "name": "python",
   "nbconvert_exporter": "python",
   "pygments_lexer": "ipython3",
   "version": "3.8.2"
  },
  "widgets": {
   "application/vnd.jupyter.widget-state+json": {
    "state": {},
    "version_major": 2,
    "version_minor": 0
   }
  }
 },
 "nbformat": 4,
 "nbformat_minor": 4
}
