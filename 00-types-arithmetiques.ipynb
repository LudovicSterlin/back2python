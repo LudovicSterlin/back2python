{
 "cells": [
  {
   "cell_type": "markdown",
   "metadata": {},
   "source": [
    "# (Re)prise en main du langage Python\n",
    "\n",
    "Toutes les séances de notre module seront présentées dans des documents au format iPython notebook, associé à l'extension `.ipynb`.  \n",
    "Ce format permet de joindre dans le même document:\n",
    "\n",
    "- du texte dans un format à balises simple, le format [markdown](http://markdowntutorial.com/),\n",
    "- du code à exécuter en [Python](https://docs.python.org/3.8/) (ici la version 3.8),\n",
    "- le résultat des commandes Python à la suite des cellules, que ce soit un résultat textuel ou une image.\n",
    "\n",
    "### À noter\n",
    "Les cellules en jaune (sur le modèle suivant) sont des exercices à faire!\n",
    "<div class=\"alert alert-warning\" style=\"margin-top: 1em\"><b>Exercice</b>: Faire les exercices</div>"
   ]
  },
  {
   "cell_type": "markdown",
   "metadata": {},
   "source": [
    "## Quelques éléments de syntaxe Python\n",
    "\n",
    "Python est un langage typé dynamiquement, on n’est donc pas obligé de déclarer le type des variables.  \n",
    "On pourra par exemple exécuter le programme suivant en plaçant le curseur dans la cellule et en tapant `Maj+Enter`."
   ]
  },
  {
   "cell_type": "code",
   "execution_count": 12,
   "metadata": {},
   "outputs": [
    {
     "name": "stdout",
     "output_type": "stream",
     "text": [
      "a * b = 12.0\n"
     ]
    }
   ],
   "source": [
    "a: int = 3  # annotation de type (optionnelle, ignorée par le langage)\n",
    "b: float = 4.0\n",
    "c = \"a * b = \"\n",
    "print(c + str(a * b))"
   ]
  },
  {
   "cell_type": "code",
   "execution_count": 13,
   "metadata": {},
   "outputs": [
    {
     "name": "stdout",
     "output_type": "stream",
     "text": [
      "a * b = 12.0\n"
     ]
    }
   ],
   "source": [
    "# On pourra préférer cette notation\n",
    "print(\"a * b = {}\".format(a * b))"
   ]
  },
  {
   "cell_type": "code",
   "execution_count": 14,
   "metadata": {},
   "outputs": [
    {
     "name": "stdout",
     "output_type": "stream",
     "text": [
      "a * b = 12.0\n",
      "a * b = 12.0\n"
     ]
    }
   ],
   "source": [
    "# Les f-strings permettent d'évaluer des variables et de les formatter.\n",
    "print(f\"a * b = {a*b}\")\n",
    "# Python 3.8 permet le raccourci suivant\n",
    "print(f\"{a * b = }\")"
   ]
  },
  {
   "cell_type": "markdown",
   "metadata": {},
   "source": [
    "Les annotations (placées après les :) sont ignorées par le langage, qui n'effectue aucune vérification avec. Mais ces annotations peuvent être confortables en tant que commentaires. La seule contrainte pour une annotation est qu'elle doit être syntaxiquement valide en Python. On peut écrire un type (courant), une chaîne de caractères ou n'importe quoi."
   ]
  },
  {
   "cell_type": "code",
   "execution_count": 15,
   "metadata": {},
   "outputs": [
    {
     "data": {
      "text/plain": [
       "(3.14, float)"
      ]
     },
     "execution_count": 15,
     "metadata": {},
     "output_type": "execute_result"
    }
   ],
   "source": [
    "angle = float\n",
    "pi: angle = 3.14\n",
    "pi, type(pi)"
   ]
  },
  {
   "cell_type": "markdown",
   "metadata": {},
   "source": [
    "Le vrai type de la valeur n'est pas impacté. On peut alors par exemple utiliser ces annotations pour ajouter des dimensions à des grandeurs physiques"
   ]
  },
  {
   "cell_type": "code",
   "execution_count": 17,
   "metadata": {},
   "outputs": [],
   "source": [
    "c: \"m.s^-1\" = 3e8\n",
    "# ou alors\n",
    "speed = float\n",
    "c: speed = 3e8"
   ]
  },
  {
   "cell_type": "markdown",
   "metadata": {},
   "source": [
    "Les opérateurs habituels sur les entiers et les flottants sont disponibles.  \n",
    "La boucle `for` permet de parcourir des objets itérables comme des listes, des tuples etc.  \n",
    "La fonction `range` permet de générer une séquence d’entiers :"
   ]
  },
  {
   "cell_type": "code",
   "execution_count": 18,
   "metadata": {
    "scrolled": true
   },
   "outputs": [
    {
     "name": "stdout",
     "output_type": "stream",
     "text": [
      "2\n",
      "3\n",
      "4\n",
      "5\n",
      "6\n"
     ]
    }
   ],
   "source": [
    "for x in range(2, 7):  # le 7 est exclu\n",
    "    print(x)"
   ]
  },
  {
   "cell_type": "markdown",
   "metadata": {},
   "source": [
    "<div class=\"alert alert-danger\">\n",
    "<b>Important :</b> L’indentation est importante en Python. Elle permet de définir les blocs.  \n",
    "</div>\n",
    "La conditionnelle est définie classiquement :"
   ]
  },
  {
   "cell_type": "code",
   "execution_count": 19,
   "metadata": {},
   "outputs": [
    {
     "name": "stdout",
     "output_type": "stream",
     "text": [
      "a = 3\n"
     ]
    }
   ],
   "source": [
    "if a == 3:\n",
    "    print(\"a = 3\")\n",
    "else:\n",
    "    print(\"a = something else...\")"
   ]
  },
  {
   "cell_type": "markdown",
   "metadata": {},
   "source": [
    "Le mot clé pour définir une fonction est `def`.\n",
    "La documentation d'une fonction peut-être écrite au format `__doctest__` en utilisant les triples guillemets.\n",
    "Les exemples d'utilisation indiqués dans la documentation `__doctest__` servent de test unitaire."
   ]
  },
  {
   "cell_type": "code",
   "execution_count": 6,
   "metadata": {},
   "outputs": [],
   "source": [
    "def fact(n: int) -> int:\n",
    "    \"\"\"Renvoie la factorielle de n.\n",
    "    \n",
    "    >>> fact(6)\n",
    "    720\n",
    "    >>> [fact(n) for n in range(6)]\n",
    "    [1, 1, 2, 6, 24, 120]\n",
    "    \n",
    "    Si n est négatif, une exception de type ValueError est levée.\n",
    "    >>> fact(-1)\n",
    "    Traceback (most recent call last):\n",
    "        ...\n",
    "    ValueError: n doit être un entier positif\n",
    "    \"\"\"\n",
    "    res = 1\n",
    "    if n < 0:\n",
    "        raise ValueError(\"n doit être un entier positif\")\n",
    "    while n > 0:\n",
    "        res = n * res\n",
    "        n = n - 1\n",
    "    return res"
   ]
  },
  {
   "cell_type": "code",
   "execution_count": 7,
   "metadata": {
    "scrolled": true
   },
   "outputs": [
    {
     "data": {
      "text/plain": [
       "720"
      ]
     },
     "execution_count": 7,
     "metadata": {},
     "output_type": "execute_result"
    }
   ],
   "source": [
    "fact(6)"
   ]
  },
  {
   "cell_type": "markdown",
   "metadata": {},
   "source": [
    "Il est important de bien remplir la documentation, on pourrait en avoir besoin par la suite:"
   ]
  },
  {
   "cell_type": "code",
   "execution_count": 8,
   "metadata": {},
   "outputs": [
    {
     "name": "stdout",
     "output_type": "stream",
     "text": [
      "Help on function fact in module __main__:\n",
      "\n",
      "fact(n: int) -> int\n",
      "    Renvoie la factorielle de n.\n",
      "    \n",
      "    >>> fact(6)\n",
      "    720\n",
      "    >>> [fact(n) for n in range(6)]\n",
      "    [1, 1, 2, 6, 24, 120]\n",
      "    \n",
      "    Si n est négatif, une exception de type ValueError est levée.\n",
      "    >>> fact(-1)\n",
      "    Traceback (most recent call last):\n",
      "        ...\n",
      "    ValueError: n doit être un entier positif\n",
      "\n"
     ]
    }
   ],
   "source": [
    "help(fact)"
   ]
  },
  {
   "cell_type": "markdown",
   "metadata": {},
   "source": [
    "La fonction `doctest.testmod()` permet de tester toutes les fonctions d'un module donné (ici `__main__`):"
   ]
  },
  {
   "cell_type": "code",
   "execution_count": 9,
   "metadata": {
    "scrolled": true
   },
   "outputs": [
    {
     "data": {
      "text/plain": [
       "TestResults(failed=0, attempted=3)"
      ]
     },
     "execution_count": 9,
     "metadata": {},
     "output_type": "execute_result"
    }
   ],
   "source": [
    "import doctest\n",
    "\n",
    "doctest.testmod()"
   ]
  },
  {
   "cell_type": "markdown",
   "metadata": {},
   "source": [
    "Le format iPython notebook permet également de consulter la documentation dans une pop-up à part:"
   ]
  },
  {
   "cell_type": "code",
   "execution_count": 10,
   "metadata": {},
   "outputs": [
    {
     "data": {
      "text/plain": [
       "\u001b[0;31mSignature:\u001b[0m \u001b[0mfact\u001b[0m\u001b[0;34m(\u001b[0m\u001b[0mn\u001b[0m\u001b[0;34m:\u001b[0m \u001b[0mint\u001b[0m\u001b[0;34m)\u001b[0m \u001b[0;34m->\u001b[0m \u001b[0mint\u001b[0m\u001b[0;34m\u001b[0m\u001b[0;34m\u001b[0m\u001b[0m\n",
       "\u001b[0;31mDocstring:\u001b[0m\n",
       "Renvoie la factorielle de n.\n",
       "\n",
       ">>> fact(6)\n",
       "720\n",
       ">>> [fact(n) for n in range(6)]\n",
       "[1, 1, 2, 6, 24, 120]\n",
       "\n",
       "Si n est négatif, une exception de type ValueError est levée.\n",
       ">>> fact(-1)\n",
       "Traceback (most recent call last):\n",
       "    ...\n",
       "ValueError: n doit être un entier positif\n",
       "\u001b[0;31mFile:\u001b[0m      /mnt/storage/Documents/ISAE/3A/SDD/back2python/<ipython-input-6-ffb80be6e8d0>\n",
       "\u001b[0;31mType:\u001b[0m      function\n"
      ]
     },
     "metadata": {},
     "output_type": "display_data"
    }
   ],
   "source": [
    "?fact"
   ]
  },
  {
   "cell_type": "markdown",
   "metadata": {},
   "source": [
    "## Structures de données\n",
    "\n",
    "Python propose un certain nombres de structures de données de base munies de facilités syntaxiques et algorithmiques.\n",
    "\n",
    "<div class=\"alert alert-success\" style=\"margin-top: 1em\">\n",
    "<b>Règle no.1</b> Tout l'art de la programmation consiste à choisir (et adapter) les bonnes structures de données.\n",
    "</div>\n",
    "\n",
    "### Chaînes de caractères\n",
    "\n",
    "En Python, le type str représente une suite de caractères Unicode. Tous les caractères (y compris les accentués et ceux utilisés dans la plupart des langues connues) peuvent être concaténés dans une chaîne de caractères valide. Seul le caractère antislash \\ doit être doublé\n",
    "car il donne une signification spéciale à certaines séquences de caractères. Le préfixe r\"\" (pour raw) désactive l’interprétation de l’antislash."
   ]
  },
  {
   "cell_type": "code",
   "execution_count": 21,
   "metadata": {},
   "outputs": [
    {
     "data": {
      "text/plain": [
       "''"
      ]
     },
     "execution_count": 21,
     "metadata": {},
     "output_type": "execute_result"
    }
   ],
   "source": [
    "str()"
   ]
  },
  {
   "cell_type": "code",
   "execution_count": 23,
   "metadata": {},
   "outputs": [
    {
     "data": {
      "text/plain": [
       "'bonjour'"
      ]
     },
     "execution_count": 23,
     "metadata": {},
     "output_type": "execute_result"
    }
   ],
   "source": [
    "\"bon\" + \"jour\""
   ]
  },
  {
   "cell_type": "code",
   "execution_count": 24,
   "metadata": {},
   "outputs": [
    {
     "data": {
      "text/plain": [
       "'Bonjour\\nà tous'"
      ]
     },
     "execution_count": 24,
     "metadata": {},
     "output_type": "execute_result"
    }
   ],
   "source": [
    "a: str = \"\"\"Bonjour\n",
    "à tous\"\"\"\n",
    "\n",
    "a"
   ]
  },
  {
   "cell_type": "code",
   "execution_count": 25,
   "metadata": {},
   "outputs": [
    {
     "data": {
      "text/plain": [
       "'B'"
      ]
     },
     "execution_count": 25,
     "metadata": {},
     "output_type": "execute_result"
    }
   ],
   "source": [
    "a[0]"
   ]
  },
  {
   "cell_type": "code",
   "execution_count": 26,
   "metadata": {},
   "outputs": [
    {
     "data": {
      "text/plain": [
       "'nj'"
      ]
     },
     "execution_count": 26,
     "metadata": {},
     "output_type": "execute_result"
    }
   ],
   "source": [
    "a[2:4]"
   ]
  },
  {
   "cell_type": "code",
   "execution_count": 27,
   "metadata": {},
   "outputs": [
    {
     "data": {
      "text/plain": [
       "'s'"
      ]
     },
     "execution_count": 27,
     "metadata": {},
     "output_type": "execute_result"
    }
   ],
   "source": [
    "a[-1]"
   ]
  },
  {
   "cell_type": "code",
   "execution_count": 28,
   "metadata": {},
   "outputs": [
    {
     "data": {
      "text/plain": [
       "'r\\nà tous'"
      ]
     },
     "execution_count": 28,
     "metadata": {},
     "output_type": "execute_result"
    }
   ],
   "source": [
    "a[-8:]"
   ]
  },
  {
   "cell_type": "code",
   "execution_count": 29,
   "metadata": {},
   "outputs": [
    {
     "data": {
      "text/plain": [
       "'heLLo heLLo '"
      ]
     },
     "execution_count": 29,
     "metadata": {},
     "output_type": "execute_result"
    }
   ],
   "source": [
    "a = \"heLLo\"\n",
    "(a + \" \") * 2"
   ]
  },
  {
   "cell_type": "code",
   "execution_count": 30,
   "metadata": {},
   "outputs": [
    {
     "data": {
      "text/plain": [
       "5"
      ]
     },
     "execution_count": 30,
     "metadata": {},
     "output_type": "execute_result"
    }
   ],
   "source": [
    "len(a)"
   ]
  },
  {
   "cell_type": "code",
   "execution_count": 31,
   "metadata": {},
   "outputs": [
    {
     "data": {
      "text/plain": [
       "'Hello'"
      ]
     },
     "execution_count": 31,
     "metadata": {},
     "output_type": "execute_result"
    }
   ],
   "source": [
    "a.capitalize()"
   ]
  },
  {
   "cell_type": "code",
   "execution_count": 38,
   "metadata": {},
   "outputs": [
    {
     "data": {
      "text/plain": [
       "'hello'"
      ]
     },
     "execution_count": 38,
     "metadata": {},
     "output_type": "execute_result"
    }
   ],
   "source": [
    "\" hello \".strip()"
   ]
  },
  {
   "cell_type": "code",
   "execution_count": 33,
   "metadata": {},
   "outputs": [
    {
     "data": {
      "text/plain": [
       "['hello', 'y’all']"
      ]
     },
     "execution_count": 33,
     "metadata": {},
     "output_type": "execute_result"
    }
   ],
   "source": [
    "\"hello y’all\".split()"
   ]
  },
  {
   "cell_type": "markdown",
   "metadata": {},
   "source": [
    "### Tuples\n",
    "\n",
    "Le tuple est une structure de base du langage Python qui concatène des variables de nature hétérogène. Il est défini par l’opérateur virgule. Le tuple est toujours affiché avec des parenthèses. Un tuple a un seul élément doit être terminé par une virgule ; un tuple sans\n",
    "élément s’écrit avec des parenthèses, mais on peut préférer le constructeur explicite."
   ]
  },
  {
   "cell_type": "code",
   "execution_count": 40,
   "metadata": {},
   "outputs": [
    {
     "data": {
      "text/plain": [
       "()"
      ]
     },
     "execution_count": 40,
     "metadata": {},
     "output_type": "execute_result"
    }
   ],
   "source": [
    "tuple()"
   ]
  },
  {
   "cell_type": "code",
   "execution_count": 39,
   "metadata": {},
   "outputs": [
    {
     "data": {
      "text/plain": [
       "(43.6, 1.45)"
      ]
     },
     "execution_count": 39,
     "metadata": {},
     "output_type": "execute_result"
    }
   ],
   "source": [
    "latlon: tuple = 43.6, 1.45\n",
    "latlon"
   ]
  },
  {
   "cell_type": "code",
   "execution_count": 41,
   "metadata": {},
   "outputs": [
    {
     "data": {
      "text/plain": [
       "(1,)"
      ]
     },
     "execution_count": 41,
     "metadata": {},
     "output_type": "execute_result"
    }
   ],
   "source": [
    "1,"
   ]
  },
  {
   "cell_type": "code",
   "execution_count": 42,
   "metadata": {},
   "outputs": [
    {
     "data": {
      "text/plain": [
       "43.6"
      ]
     },
     "execution_count": 42,
     "metadata": {},
     "output_type": "execute_result"
    }
   ],
   "source": [
    "# tuple unpacking\n",
    "lat, lon = latlon\n",
    "lat"
   ]
  },
  {
   "cell_type": "code",
   "execution_count": 44,
   "metadata": {},
   "outputs": [],
   "source": [
    "lat, _ = latlon  # variable muette"
   ]
  },
  {
   "cell_type": "markdown",
   "metadata": {},
   "source": [
    "Le déballage requiert autant d’éléments dans la partie gauche que dans la partie droite du signe égal. Si tous les champs ne sont pas nécessaires à gauche, on utilise généralement la variable muette _ . L’opérateur préfixe * permet de grouper plusieurs variables."
   ]
  },
  {
   "cell_type": "code",
   "execution_count": 45,
   "metadata": {},
   "outputs": [
    {
     "data": {
      "text/plain": [
       "(0, 1, 2, 3, 4, 5, 6, 7, 8, 9)"
      ]
     },
     "execution_count": 45,
     "metadata": {},
     "output_type": "execute_result"
    }
   ],
   "source": [
    "dix = tuple(range(10))\n",
    "dix"
   ]
  },
  {
   "cell_type": "code",
   "execution_count": 48,
   "metadata": {},
   "outputs": [],
   "source": [
    "zero, *autres, huit, neuf = dix"
   ]
  },
  {
   "cell_type": "code",
   "execution_count": 49,
   "metadata": {},
   "outputs": [
    {
     "data": {
      "text/plain": [
       "0"
      ]
     },
     "execution_count": 49,
     "metadata": {},
     "output_type": "execute_result"
    }
   ],
   "source": [
    "zero"
   ]
  },
  {
   "cell_type": "code",
   "execution_count": 50,
   "metadata": {},
   "outputs": [
    {
     "data": {
      "text/plain": [
       "[1, 2, 3, 4, 5, 6, 7]"
      ]
     },
     "execution_count": 50,
     "metadata": {},
     "output_type": "execute_result"
    }
   ],
   "source": [
    "autres"
   ]
  },
  {
   "cell_type": "code",
   "execution_count": 51,
   "metadata": {},
   "outputs": [
    {
     "data": {
      "text/plain": [
       "(8, 9)"
      ]
     },
     "execution_count": 51,
     "metadata": {},
     "output_type": "execute_result"
    }
   ],
   "source": [
    "huit, neuf"
   ]
  },
  {
   "cell_type": "markdown",
   "metadata": {},
   "source": [
    "### Listes\n",
    "\n",
    "La liste est un conteneur séquentiel de valeurs hétérogènes. C’est un objet mutable : on peut en modifier le contenu à tout moment. Cette structure très intuitive, munie d’une algorithmique riche, notamment pour le tri et la recherche est souvent le choix par défaut des débutants pour tous les problèmes qu’ils doivent résoudre."
   ]
  },
  {
   "cell_type": "code",
   "execution_count": 52,
   "metadata": {},
   "outputs": [
    {
     "data": {
      "text/plain": [
       "[]"
      ]
     },
     "execution_count": 52,
     "metadata": {},
     "output_type": "execute_result"
    }
   ],
   "source": [
    "list()"
   ]
  },
  {
   "cell_type": "code",
   "execution_count": 54,
   "metadata": {},
   "outputs": [],
   "source": [
    "a: list = [1, \"deux\", 3.0]"
   ]
  },
  {
   "cell_type": "code",
   "execution_count": 55,
   "metadata": {},
   "outputs": [
    {
     "data": {
      "text/plain": [
       "1"
      ]
     },
     "execution_count": 55,
     "metadata": {},
     "output_type": "execute_result"
    }
   ],
   "source": [
    "a[0]"
   ]
  },
  {
   "cell_type": "code",
   "execution_count": 56,
   "metadata": {},
   "outputs": [
    {
     "data": {
      "text/plain": [
       "3"
      ]
     },
     "execution_count": 56,
     "metadata": {},
     "output_type": "execute_result"
    }
   ],
   "source": [
    "len(a)"
   ]
  },
  {
   "cell_type": "code",
   "execution_count": 57,
   "metadata": {},
   "outputs": [],
   "source": [
    "a.append(1)"
   ]
  },
  {
   "cell_type": "code",
   "execution_count": 58,
   "metadata": {},
   "outputs": [
    {
     "data": {
      "text/plain": [
       "[1, 'deux', 3.0, 1]"
      ]
     },
     "execution_count": 58,
     "metadata": {},
     "output_type": "execute_result"
    }
   ],
   "source": [
    "a"
   ]
  },
  {
   "cell_type": "code",
   "execution_count": 59,
   "metadata": {},
   "outputs": [
    {
     "data": {
      "text/plain": [
       "2"
      ]
     },
     "execution_count": 59,
     "metadata": {},
     "output_type": "execute_result"
    }
   ],
   "source": [
    "a.count(1)"
   ]
  },
  {
   "cell_type": "code",
   "execution_count": 60,
   "metadata": {},
   "outputs": [
    {
     "data": {
      "text/plain": [
       "True"
      ]
     },
     "execution_count": 60,
     "metadata": {},
     "output_type": "execute_result"
    }
   ],
   "source": [
    "3 in a"
   ]
  },
  {
   "cell_type": "code",
   "execution_count": 61,
   "metadata": {},
   "outputs": [],
   "source": [
    "a[1] = 2"
   ]
  },
  {
   "cell_type": "code",
   "execution_count": 62,
   "metadata": {},
   "outputs": [
    {
     "data": {
      "text/plain": [
       "[1, 2, 3.0, 1]"
      ]
     },
     "execution_count": 62,
     "metadata": {},
     "output_type": "execute_result"
    }
   ],
   "source": [
    "a"
   ]
  },
  {
   "cell_type": "code",
   "execution_count": 63,
   "metadata": {},
   "outputs": [],
   "source": [
    "a.sort()"
   ]
  },
  {
   "cell_type": "code",
   "execution_count": 64,
   "metadata": {},
   "outputs": [
    {
     "data": {
      "text/plain": [
       "[1, 1, 2, 3.0]"
      ]
     },
     "execution_count": 64,
     "metadata": {},
     "output_type": "execute_result"
    }
   ],
   "source": [
    "a"
   ]
  },
  {
   "cell_type": "code",
   "execution_count": 65,
   "metadata": {},
   "outputs": [
    {
     "data": {
      "text/plain": [
       "[1, 2]"
      ]
     },
     "execution_count": 65,
     "metadata": {},
     "output_type": "execute_result"
    }
   ],
   "source": [
    "a[1:3]"
   ]
  },
  {
   "cell_type": "markdown",
   "metadata": {},
   "source": [
    "On peut utiliser le mécanisme de *compréhension de liste* pour construire une liste facilement.  \n",
    "Par exemple, pour\n",
    "construire une liste contenant les carrés des valeurs comprises entre 1 et 5 :"
   ]
  },
  {
   "cell_type": "code",
   "execution_count": 66,
   "metadata": {},
   "outputs": [
    {
     "data": {
      "text/plain": [
       "[0, 1, 2, 3, 4]"
      ]
     },
     "execution_count": 66,
     "metadata": {},
     "output_type": "execute_result"
    }
   ],
   "source": [
    "[i for i in range(5)]\n",
    "# similar to list(i for i in range(5))\n",
    "# similar to list(range(5))"
   ]
  },
  {
   "cell_type": "code",
   "execution_count": 67,
   "metadata": {},
   "outputs": [
    {
     "data": {
      "text/plain": [
       "['0', '1', '2', '3', '4']"
      ]
     },
     "execution_count": 67,
     "metadata": {},
     "output_type": "execute_result"
    }
   ],
   "source": [
    "[str(i) for i in range(5)]"
   ]
  },
  {
   "cell_type": "code",
   "execution_count": 68,
   "metadata": {},
   "outputs": [
    {
     "data": {
      "text/plain": [
       "[0, 1, 4, 9, 16]"
      ]
     },
     "execution_count": 68,
     "metadata": {},
     "output_type": "execute_result"
    }
   ],
   "source": [
    "[i ** 2 for i in range(5)]"
   ]
  },
  {
   "cell_type": "code",
   "execution_count": 69,
   "metadata": {},
   "outputs": [
    {
     "data": {
      "text/plain": [
       "[0, 4, 16]"
      ]
     },
     "execution_count": 69,
     "metadata": {},
     "output_type": "execute_result"
    }
   ],
   "source": [
    "[i ** 2 for i in range(5) if i & 1 == 0]  # smarter than i%2 == 0"
   ]
  },
  {
   "cell_type": "code",
   "execution_count": 70,
   "metadata": {},
   "outputs": [
    {
     "data": {
      "text/plain": [
       "['H', 'E', 'L', 'L', 'O']"
      ]
     },
     "execution_count": 70,
     "metadata": {},
     "output_type": "execute_result"
    }
   ],
   "source": [
    "[x.upper() for x in \"hello\"]  # even with strings"
   ]
  },
  {
   "cell_type": "markdown",
   "metadata": {},
   "source": [
    "Rappelons également le constructeur `sorted` qui crée une liste triée à partir d'une structure itérable ou d'un générateur:"
   ]
  },
  {
   "cell_type": "code",
   "execution_count": 71,
   "metadata": {},
   "outputs": [
    {
     "data": {
      "text/plain": [
       "[0, 1, 1, 4, 4, 9, 9, 16, 16, 25]"
      ]
     },
     "execution_count": 71,
     "metadata": {},
     "output_type": "execute_result"
    }
   ],
   "source": [
    "sorted(i ** 2 for i in range(-5, 5))"
   ]
  },
  {
   "cell_type": "markdown",
   "metadata": {},
   "source": [
    "### Ensembles\n",
    "\n",
    "L’ensemble (type set) est un conteneur séquentiel d’éléments uniques. On peut créer un ensemble par énumération de valeurs, à partir d’une structure qui permet l’itération (comme une liste, une chaîne de caractères, etc.) ou par compréhension."
   ]
  },
  {
   "cell_type": "code",
   "execution_count": 72,
   "metadata": {},
   "outputs": [
    {
     "data": {
      "text/plain": [
       "set()"
      ]
     },
     "execution_count": 72,
     "metadata": {},
     "output_type": "execute_result"
    }
   ],
   "source": [
    "set()"
   ]
  },
  {
   "cell_type": "code",
   "execution_count": 135,
   "metadata": {},
   "outputs": [
    {
     "data": {
      "text/plain": [
       "{1}"
      ]
     },
     "execution_count": 135,
     "metadata": {},
     "output_type": "execute_result"
    }
   ],
   "source": [
    "s = {1}\n",
    "s"
   ]
  },
  {
   "cell_type": "code",
   "execution_count": 74,
   "metadata": {},
   "outputs": [
    {
     "data": {
      "text/plain": [
       "{'c', 'o', 'u'}"
      ]
     },
     "execution_count": 74,
     "metadata": {},
     "output_type": "execute_result"
    }
   ],
   "source": [
    "set(\"coucou\")"
   ]
  },
  {
   "cell_type": "code",
   "execution_count": 75,
   "metadata": {},
   "outputs": [
    {
     "data": {
      "text/plain": [
       "{0, 1, 4}"
      ]
     },
     "execution_count": 75,
     "metadata": {},
     "output_type": "execute_result"
    }
   ],
   "source": [
    "set(i ** 2 for i in (-2, -1, 0, 1, 2))"
   ]
  },
  {
   "cell_type": "markdown",
   "metadata": {},
   "source": [
    "Un set peut-être modifié en ajoutant ou supprimant des valeurs. L’arithmétique des ensembles est accessible à l’aide des opérateurs usuels pour l’union | , l’intersection & et la différence - . L’opérateur + n’est pas défini."
   ]
  },
  {
   "cell_type": "code",
   "execution_count": 76,
   "metadata": {},
   "outputs": [
    {
     "data": {
      "text/plain": [
       "{1, 2, 3}"
      ]
     },
     "execution_count": 76,
     "metadata": {},
     "output_type": "execute_result"
    }
   ],
   "source": [
    "s"
   ]
  },
  {
   "cell_type": "code",
   "execution_count": 77,
   "metadata": {},
   "outputs": [
    {
     "data": {
      "text/plain": [
       "{1, 2, 3, 4}"
      ]
     },
     "execution_count": 77,
     "metadata": {},
     "output_type": "execute_result"
    }
   ],
   "source": [
    "s.add(4)\n",
    "s"
   ]
  },
  {
   "cell_type": "code",
   "execution_count": 78,
   "metadata": {},
   "outputs": [
    {
     "data": {
      "text/plain": [
       "{1, 2, 3}"
      ]
     },
     "execution_count": 78,
     "metadata": {},
     "output_type": "execute_result"
    }
   ],
   "source": [
    "s.remove(4)\n",
    "s"
   ]
  },
  {
   "cell_type": "code",
   "execution_count": 79,
   "metadata": {},
   "outputs": [
    {
     "data": {
      "text/plain": [
       "(1, {2, 3})"
      ]
     },
     "execution_count": 79,
     "metadata": {},
     "output_type": "execute_result"
    }
   ],
   "source": [
    "s.pop(), s"
   ]
  },
  {
   "cell_type": "code",
   "execution_count": 81,
   "metadata": {},
   "outputs": [
    {
     "data": {
      "text/plain": [
       "({0, 1, 2}, {-2, -1, 0})"
      ]
     },
     "execution_count": 81,
     "metadata": {},
     "output_type": "execute_result"
    }
   ],
   "source": [
    "s1 = set(range(3))\n",
    "s2 = set(range(0, -3, -1))\n",
    "s1, s2"
   ]
  },
  {
   "cell_type": "code",
   "execution_count": 82,
   "metadata": {},
   "outputs": [
    {
     "data": {
      "text/plain": [
       "{-2, -1, 0, 1, 2}"
      ]
     },
     "execution_count": 82,
     "metadata": {},
     "output_type": "execute_result"
    }
   ],
   "source": [
    "s1 | s2  # union"
   ]
  },
  {
   "cell_type": "code",
   "execution_count": 83,
   "metadata": {},
   "outputs": [
    {
     "data": {
      "text/plain": [
       "{0}"
      ]
     },
     "execution_count": 83,
     "metadata": {},
     "output_type": "execute_result"
    }
   ],
   "source": [
    "s1 & s2  # intersection"
   ]
  },
  {
   "cell_type": "code",
   "execution_count": 84,
   "metadata": {},
   "outputs": [
    {
     "data": {
      "text/plain": [
       "{1, 2}"
      ]
     },
     "execution_count": 84,
     "metadata": {},
     "output_type": "execute_result"
    }
   ],
   "source": [
    "s1 - s2  # différence"
   ]
  },
  {
   "cell_type": "markdown",
   "metadata": {},
   "source": [
    "### Dictionnaires\n",
    "\n",
    "Les dictionnaires (type dict ) sont des tables de hash qui fonctionnent sur le modèle clé/valeur. Toutes les valeurs utilisées comme clé doivent être hashable, exactement comme pour les ensembles. Ce sont des structures mutables : on peut librement ajouter de nouvelles clés ou remplacer des valeurs. Comme ils sont utilisés de manière extensive à des emplacements critiques du cœur du langage, les dictionnaires sont particulièrement optimisées en Python."
   ]
  },
  {
   "cell_type": "code",
   "execution_count": 89,
   "metadata": {},
   "outputs": [],
   "source": [
    "tour_eiffel = {\n",
    "    \"latitude\": 48.8583,\n",
    "    \"longitude\": 2.2945,\n",
    "    \"nom\": \"Tour Eiffel\",\n",
    "    \"ville\": \"Paris\",\n",
    "}"
   ]
  },
  {
   "cell_type": "code",
   "execution_count": 90,
   "metadata": {},
   "outputs": [
    {
     "data": {
      "text/plain": [
       "{'latitude': 48.8583,\n",
       " 'longitude': 2.2945,\n",
       " 'nom': 'Tour Eiffel',\n",
       " 'ville': 'Paris',\n",
       " 'pays': 'France'}"
      ]
     },
     "execution_count": 90,
     "metadata": {},
     "output_type": "execute_result"
    }
   ],
   "source": [
    "tour_eiffel[\"pays\"] = \"France\"\n",
    "tour_eiffel"
   ]
  },
  {
   "cell_type": "code",
   "execution_count": 87,
   "metadata": {},
   "outputs": [
    {
     "data": {
      "text/plain": [
       "{'latitude': 43.6, 'longitude': 1.45}"
      ]
     },
     "execution_count": 87,
     "metadata": {},
     "output_type": "execute_result"
    }
   ],
   "source": [
    "point = dict(latitude=43.6, longitude=1.45)  # équivalent\n",
    "point"
   ]
  },
  {
   "cell_type": "code",
   "execution_count": 91,
   "metadata": {},
   "outputs": [
    {
     "data": {
      "text/plain": [
       "True"
      ]
     },
     "execution_count": 91,
     "metadata": {},
     "output_type": "execute_result"
    }
   ],
   "source": [
    "\"latitude\" in point"
   ]
  },
  {
   "cell_type": "markdown",
   "metadata": {},
   "source": [
    "On peut utiliser l’opération .get() qui permet de définir une valeur par défaut si une clé n’est pas présente dans le dictionnaire :"
   ]
  },
  {
   "cell_type": "code",
   "execution_count": 92,
   "metadata": {},
   "outputs": [
    {
     "data": {
      "text/plain": [
       "0"
      ]
     },
     "execution_count": 92,
     "metadata": {},
     "output_type": "execute_result"
    }
   ],
   "source": [
    "altitude = point.get(\"altitude\", 0)\n",
    "altitude"
   ]
  },
  {
   "cell_type": "code",
   "execution_count": 93,
   "metadata": {},
   "outputs": [
    {
     "data": {
      "text/plain": [
       "dict_keys(['latitude', 'longitude'])"
      ]
     },
     "execution_count": 93,
     "metadata": {},
     "output_type": "execute_result"
    }
   ],
   "source": [
    "point.keys()"
   ]
  },
  {
   "cell_type": "code",
   "execution_count": 94,
   "metadata": {},
   "outputs": [
    {
     "data": {
      "text/plain": [
       "dict_values([43.6, 1.45])"
      ]
     },
     "execution_count": 94,
     "metadata": {},
     "output_type": "execute_result"
    }
   ],
   "source": [
    "point.values()"
   ]
  },
  {
   "cell_type": "code",
   "execution_count": 95,
   "metadata": {},
   "outputs": [
    {
     "data": {
      "text/plain": [
       "dict_items([('latitude', 43.6), ('longitude', 1.45)])"
      ]
     },
     "execution_count": 95,
     "metadata": {},
     "output_type": "execute_result"
    }
   ],
   "source": [
    "point.items()"
   ]
  },
  {
   "cell_type": "code",
   "execution_count": 96,
   "metadata": {},
   "outputs": [
    {
     "data": {
      "text/plain": [
       "{'LATITUDE': 43.6, 'LONGITUDE': 1.45}"
      ]
     },
     "execution_count": 96,
     "metadata": {},
     "output_type": "execute_result"
    }
   ],
   "source": [
    "dict((key.upper(), value) for (key, value) in point.items())"
   ]
  },
  {
   "cell_type": "markdown",
   "metadata": {},
   "source": [
    "L’opérateur préfixe ** permet de décapsuler les dictionnaires. Il est couramment utilisé pour mettre à jour un dictionnaire ou pour en concaténer deux."
   ]
  },
  {
   "cell_type": "code",
   "execution_count": 97,
   "metadata": {},
   "outputs": [
    {
     "data": {
      "text/plain": [
       "{'latitude': 43.6, 'longitude': 1.45, 'pays': 'France'}"
      ]
     },
     "execution_count": 97,
     "metadata": {},
     "output_type": "execute_result"
    }
   ],
   "source": [
    "{**point, **{\"pays\": \"France\", \"longitude\": 1.45}}"
   ]
  },
  {
   "cell_type": "markdown",
   "metadata": {},
   "source": [
    "<div class=\"alert alert-warning\">\n",
    "<b>Exercice</b>: Construire <b>et documenter</b> une fonction qui calcule la liste des nombres premiers inférieurs ou égaux à n.\n",
    "</div>"
   ]
  },
  {
   "cell_type": "code",
   "execution_count": 139,
   "metadata": {},
   "outputs": [
    {
     "name": "stdout",
     "output_type": "stream",
     "text": [
      "{2, 3, 5, 7, 11, 13, 17, 19, 23, 29, 31, 37, 41, 43, 47, 53, 59, 61, 67, 71, 73, 79, 83, 89, 97}\n"
     ]
    }
   ],
   "source": [
    "# write your code here!\n",
    "def prime_until(n: int) -> tuple:\n",
    "    \"\"\"Renvoie la la liste des nombres premiers inférieurs ou égaux à n.\n",
    "    \n",
    "    >>> prime_until(100)\n",
    "    {2, 3, 5, 7, 11, 13, 17, 19, 23, 29, 31, 37, 41, 43, 47, 53, 59, 61, 67, 71, 73, 79, 83, 89, 97}\n",
    "    \n",
    "    Si n est négatif, une exception de type AssertionError est levée.\n",
    "    >>> prime_until(-1)\n",
    "    AssertionError: n doit être un entier positif\n",
    "    \"\"\"\n",
    "    assert n > 0, \"n must be a positive integers\"\n",
    "    numbers = list(range(2,n+1))\n",
    "    primes = set()\n",
    "    while len(numbers) > 0:\n",
    "        cur = numbers[0]\n",
    "        primes.add(cur)\n",
    "        numbers = list((num for num in numbers if num % cur != 0))\n",
    "    return primes\n",
    "    \n",
    "print(prime_until(100))\n",
    "# print(prime_until(-1))"
   ]
  },
  {
   "cell_type": "code",
   "execution_count": 132,
   "metadata": {},
   "outputs": [
    {
     "data": {
      "text/plain": [
       "{1, 2, 3, 5, 7, 11, 13, 17, 19}"
      ]
     },
     "execution_count": 132,
     "metadata": {},
     "output_type": "execute_result"
    }
   ],
   "source": [
    "# %load solutions/prime.py\n",
    "import math\n",
    "\n",
    "\n",
    "def prime(n: int) -> int:\n",
    "    \"\"\"Computes all prime numbers below n.\n",
    "    Computes the sieve of Eratosthenes\n",
    "    >>> prime(20)\n",
    "    {1, 2, 3, 5, 7, 11, 13, 17, 19}\n",
    "    \"\"\"\n",
    "    assert n > 0, \"Positive integers only\"\n",
    "    p = set(range(1, n))\n",
    "    for i in range(2, int(math.sqrt(n)) + 1):\n",
    "        p = p - set(x*i for x in range(2, n//i + 1))\n",
    "    return p\n",
    "\n",
    "\n",
    "prime(20)"
   ]
  },
  {
   "cell_type": "code",
   "execution_count": 133,
   "metadata": {},
   "outputs": [
    {
     "data": {
      "text/plain": [
       "'1, 2, 3, 5, 7, 11, 13, 17, 19, 23, 29, 31, 37, 41, 43, 47, 53, 59, 61, 67, 71, 73, 79, 83, 89, 97'"
      ]
     },
     "execution_count": 133,
     "metadata": {},
     "output_type": "execute_result"
    }
   ],
   "source": [
    "\", \".join(str(i) for i in prime(100))"
   ]
  },
  {
   "cell_type": "markdown",
   "metadata": {},
   "source": [
    "\n",
    "<div class=\"alert alert-warning\">\n",
    "<b>Exercice:</b> Écrire un programme qui lit le fichier <code>00-lorem-ipsum.txt</code> et y compte le nombre d’occurrences de chaque mot.\n",
    "</div>\n",
    "\n",
    "On pourra partir du modèle suivant :\n",
    "```python\n",
    "with open(\"data/00-lorem-ipsum.txt\") as f:\n",
    "    print(f.readlines())\n",
    "```"
   ]
  },
  {
   "cell_type": "code",
   "execution_count": 166,
   "metadata": {},
   "outputs": [
    {
     "name": "stdout",
     "output_type": "stream",
     "text": [
      "Donec: 6\n",
      "Mauris: 7\n",
      "Pellentesque: 6\n",
      "Sed: 9\n",
      "Ut: 8\n",
      "a: 9\n",
      "ac: 12\n",
      "amet: 11\n",
      "ante: 10\n",
      "arcu: 7\n",
      "at: 7\n",
      "augue: 6\n",
      "blandit: 6\n",
      "consectetur: 6\n",
      "dui: 6\n",
      "eget: 11\n",
      "eros: 7\n",
      "et: 14\n",
      "ex: 6\n",
      "facilisis: 9\n",
      "id: 9\n",
      "in: 11\n",
      "ipsum: 6\n",
      "lacus: 6\n",
      "libero: 8\n",
      "ligula: 8\n",
      "magna: 8\n",
      "mollis: 6\n",
      "nec: 8\n",
      "non: 15\n",
      "nunc: 7\n",
      "orci: 7\n",
      "pulvinar: 6\n",
      "purus: 7\n",
      "quis: 7\n",
      "sed: 8\n",
      "sit: 11\n",
      "sodales: 6\n",
      "tincidunt: 8\n",
      "tristique: 8\n",
      "vel: 6\n",
      "vitae: 8\n"
     ]
    }
   ],
   "source": [
    "# write your code here!\n",
    "import string\n",
    "from collections import defaultdict\n",
    "\n",
    "with open(\"data/00-lorem-ipsum.txt\") as f:\n",
    "#     print(f.readlines())\n",
    "    d = defaultdict(int)\n",
    "    for line in f.readlines():\n",
    "        for char in string.punctuation:\n",
    "            line = line.replace(char, \" \") \n",
    "        for word in line.split():\n",
    "            d[word] += 1\n",
    "    \n",
    "    for key in sorted(d.keys()):\n",
    "        if d[key] > 5:  # make the output a bit lighter...\n",
    "            print(f\"{key}: {d[key]}\")"
   ]
  },
  {
   "cell_type": "code",
   "execution_count": 168,
   "metadata": {},
   "outputs": [],
   "source": [
    "# %load solutions/lorem_ipsum.py\n",
    "import string\n",
    "\n",
    "with open(\"data/00-lorem-ipsum.txt\") as f:\n",
    "    d = {}\n",
    "    for x in f.readlines():\n",
    "        for s in string.punctuation:  # !\"#$%&\\'()*+,-./:;<=>?@[\\\\]^_‘{|}~\n",
    "            x = x.replace(s, \" \")\n",
    "        for p in x.split():\n",
    "            if p in d.keys():\n",
    "                d[p] += 1\n",
    "            else:\n",
    "                d[p] = 1\n",
    "\n",
    "    for key in sorted(d.keys()):\n",
    "        if d[key] > 5:  # make the output a bit lighter...\n",
    "            print(\"{}: {}\".format(key, d[key]))\n"
   ]
  },
  {
   "cell_type": "code",
   "execution_count": 160,
   "metadata": {},
   "outputs": [
    {
     "name": "stdout",
     "output_type": "stream",
     "text": [
      "Donec: 6\n",
      "Mauris: 7\n",
      "Pellentesque: 6\n",
      "Sed: 9\n",
      "Ut: 8\n",
      "a: 9\n",
      "ac: 12\n",
      "amet: 11\n",
      "ante: 10\n",
      "arcu: 7\n",
      "at: 7\n",
      "augue: 6\n",
      "blandit: 6\n",
      "consectetur: 6\n",
      "dui: 6\n",
      "eget: 11\n",
      "eros: 7\n",
      "et: 14\n",
      "ex: 6\n",
      "facilisis: 9\n",
      "id: 9\n",
      "in: 11\n",
      "ipsum: 6\n",
      "lacus: 6\n",
      "libero: 8\n",
      "ligula: 8\n",
      "magna: 8\n",
      "mollis: 6\n",
      "nec: 8\n",
      "non: 15\n",
      "nunc: 7\n",
      "orci: 7\n",
      "pulvinar: 6\n",
      "purus: 7\n",
      "quis: 7\n",
      "sed: 8\n",
      "sit: 11\n",
      "sodales: 6\n",
      "tincidunt: 8\n",
      "tristique: 8\n",
      "vel: 6\n",
      "vitae: 8\n"
     ]
    }
   ],
   "source": [
    "# %load solutions/lorem_ipsum_alt.py\n",
    "import string\n",
    "from collections import defaultdict\n",
    "\n",
    "with open(\"data/00-lorem-ipsum.txt\") as f:\n",
    "    d = defaultdict(int)\n",
    "    for x in f.readlines():\n",
    "        for s in string.punctuation:  # !\"#$%&\\'()*+,-./:;<=>?@[\\\\]^_‘{|}~\n",
    "            x = x.replace(s, \" \")\n",
    "        for p in x.split():\n",
    "            d[p] += 1\n",
    "\n",
    "    for key in sorted(d.keys()):\n",
    "        if d[key] > 5:  # make the output a bit lighter...\n",
    "            print(f\"{key}: {d[key]}\")\n"
   ]
  },
  {
   "cell_type": "code",
   "execution_count": 172,
   "metadata": {},
   "outputs": [
    {
     "name": "stdout",
     "output_type": "stream",
     "text": [
      "[('non', 15), ('et', 14), ('ac', 12), ('sit', 11), ('amet', 11)]\n"
     ]
    }
   ],
   "source": [
    "# %load solutions/lorem_ipsum_alt2.py\n",
    "import string\n",
    "from collections import Counter\n",
    "\n",
    "lw=[]\n",
    "with open(\"data/00-lorem-ipsum.txt\") as f:\n",
    "    for l in f.readlines():\n",
    "        for s in string.punctuation:  # !\"#$%&\\'()*+,-./:;<=>?@[\\\\]^_‘{|}~\n",
    "            l = l.replace(s, \" \")\n",
    "        lw+=[w for w in l.split()]\n",
    "        \n",
    "c=Counter(lw)\n",
    "print(c.most_common(5))"
   ]
  },
  {
   "cell_type": "code",
   "execution_count": null,
   "metadata": {},
   "outputs": [],
   "source": []
  }
 ],
 "metadata": {
  "kernelspec": {
   "display_name": "Python 3",
   "language": "python",
   "name": "python3"
  },
  "language_info": {
   "codemirror_mode": {
    "name": "ipython",
    "version": 3
   },
   "file_extension": ".py",
   "mimetype": "text/x-python",
   "name": "python",
   "nbconvert_exporter": "python",
   "pygments_lexer": "ipython3",
   "version": "3.8.3"
  },
  "widgets": {
   "application/vnd.jupyter.widget-state+json": {
    "state": {},
    "version_major": 2,
    "version_minor": 0
   }
  }
 },
 "nbformat": 4,
 "nbformat_minor": 4
}
