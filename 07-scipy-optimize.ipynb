{
 "cells": [
  {
   "cell_type": "markdown",
   "metadata": {},
   "source": [
    "# Building a map from distances between cities\n",
    "\n",
    "Let's say we know the distances between several cities and want to place them on a map. Python and `scipy.optimize` offer everything to plot the cities properly. You may appreciate to read more about gradient descent, line search, or conjugate gradient. [This website](http://www.benfrederickson.com/numerical-optimization/) is a good reference (with nice Javascript animations!).\n"
   ]
  },
  {
   "cell_type": "code",
   "execution_count": null,
   "metadata": {
    "collapsed": true
   },
   "outputs": [],
   "source": [
    "import numpy as np"
   ]
  },
  {
   "cell_type": "code",
   "execution_count": null,
   "metadata": {
    "collapsed": true
   },
   "outputs": [],
   "source": [
    "cities = \"\"\"\n",
    "Amsterdam Athens    Barcelona Berlin   Bucarest  Budapest Brussels Copenhagen\n",
    "Dublin    Edinburgh Gibraltar Helsinki Istanbul  Kiev     Lisbon   London\n",
    "Madrid    Milan     Moscow    Munich   Nantes    Oslo     Paris    Prague\n",
    "Reykjavik Riga      Rome      Sofia    Stockholm Toulouse Vilnius  Warsaw\n",
    "\"\"\"\n",
    "\n",
    "cities = cities.split()\n",
    "n = len(cities) # 32"
   ]
  },
  {
   "cell_type": "markdown",
   "metadata": {},
   "source": [
    "We can load the distances between cities from the following file:"
   ]
  },
  {
   "cell_type": "code",
   "execution_count": null,
   "metadata": {
    "collapsed": true
   },
   "outputs": [],
   "source": [
    "distances = np.load(\"data/cities_distances.npy\")"
   ]
  },
  {
   "cell_type": "code",
   "execution_count": null,
   "metadata": {},
   "outputs": [],
   "source": [
    "distances"
   ]
  },
  {
   "cell_type": "markdown",
   "metadata": {},
   "source": [
    "## The optimisation problem\n",
    "\n",
    "We consider a matrix of distances separating cities in Europe. We want to find they $(x,y)$-positions on a map such that all distances are respected.\n",
    "\n",
    "This corresponds to minimising the sum\n",
    "\n",
    "$$f\\left(x_0, y_0, \\cdots, y_n\\right) =\\sum_i\\sum_j \\left(\\left(x_i - x_j\\right)^2 + \\left(y_i - y_j\\right)^2 - d_{i, j}^2\\right)^2$$\n",
    "\n",
    "With 32 cities, that is a problem of 64 floating precision variables we can solve with many optimisation methods embedded in `scipy.optimize`.  \n",
    "We choose here `fmin_bfgs` (for Broyden-Fletcher-Goldfarb-Shanno), that takes the function to minimise and its derivate. "
   ]
  },
  {
   "cell_type": "code",
   "execution_count": null,
   "metadata": {
    "collapsed": true
   },
   "outputs": [],
   "source": [
    "def func(*x):\n",
    "    \"\"\" Compute the function to minimise.\n",
    "    \n",
    "    Vector reshaped for more readability.\n",
    "    \"\"\"\n",
    "    res = 0\n",
    "    x = np.array(x)\n",
    "    x = x.reshape((n, 2))\n",
    "    for i in range(n):\n",
    "        for j in range(i+1, n):\n",
    "            (x1, y1), (x2, y2) = x[i, :], x[j, :]\n",
    "            delta = (x2 - x1)**2 + (y2 - y1)**2 - distances[i, j]**2\n",
    "            res += delta**2\n",
    "    return res\n",
    "\n",
    "def func_der(*x):\n",
    "    \"\"\" Derivative of the preceding function.\n",
    "    \n",
    "    Note: (f \\circ g)' = g' \\times f' \\circ g\n",
    "    Vector reshaped for more readability.\n",
    "    \"\"\"\n",
    "    res = np.zeros((n, 2))\n",
    "    x = np.array(x)\n",
    "    x = x.reshape((n, 2))\n",
    "    for i in range(n):\n",
    "        for j in range(i+1, n):\n",
    "            (x1, y1), (x2, y2) = x[i, :], x[j, :]\n",
    "            delta = (x2 - x1)**2 + (y2 - y1)**2 - distances[i, j]**2\n",
    "            res[i, 0] += 4 * (x1 - x2) * delta\n",
    "            res[i, 1] += 4 * (y1 - y2) * delta\n",
    "            res[j, 0] += 4 * (x2 - x1) * delta\n",
    "            res[j, 1] += 4 * (y2 - y1) * delta\n",
    "    return np.ravel(res)"
   ]
  },
  {
   "cell_type": "markdown",
   "metadata": {},
   "source": [
    "Before we can call the BFGS algorithm, we need to compute an initial state. We use here a normal law but as we will want to plot the full convergence process later, we choose to scale the initial distribution of points with the norm of the distance matrix."
   ]
  },
  {
   "cell_type": "code",
   "execution_count": null,
   "metadata": {
    "collapsed": true
   },
   "outputs": [],
   "source": [
    "import numpy.linalg as la\n",
    "\n",
    "# initial random position\n",
    "x0 = np.random.normal(size=(n, 2))\n",
    "\n",
    "# normalize initial position so as to not look too stupid from start\n",
    "l1, l2 = np.meshgrid(x0[:,0], x0[:,0])\n",
    "r1, r2 = np.meshgrid(x0[:,1], x0[:,1])\n",
    "x0 /= la.norm(np.sqrt((l1 - l2)**2 + (r1 - r2)**2))"
   ]
  },
  {
   "cell_type": "markdown",
   "metadata": {},
   "source": [
    "So now we are ready!"
   ]
  },
  {
   "cell_type": "code",
   "execution_count": null,
   "metadata": {},
   "outputs": [],
   "source": [
    "import scipy.optimize as sopt\n",
    "solution = sopt.fmin_bfgs(func, x0, fprime=func_der, retall=True)"
   ]
  },
  {
   "cell_type": "markdown",
   "metadata": {},
   "source": [
    "## Post-processing the solution\n",
    "\n",
    "Now we have a solution (which looks quite good!), and thanks to the `retall` parameter, we get the full convergence track in the second argument of the tuple.\n",
    "\n",
    "Yet, since all rotations of maps and mirrors of solution maps are equivalent solutions to our problem (we call these symmetries), we need to do some post-processing to put the map in a familiar way:\n",
    "- we can use the fact that Rome and Copenhagen are almost aligned to rotate the map;\n",
    "- we take two cities that we know are east/west of each other, and decide whether a mirroring is necessary."
   ]
  },
  {
   "cell_type": "code",
   "execution_count": null,
   "metadata": {
    "collapsed": true
   },
   "outputs": [],
   "source": [
    "res = solution[0].reshape((n, 2))\n",
    "\n",
    "# rotate it so that Copenhagen is above Rome\n",
    "south, north = cities.index(\"Rome\"), cities.index(\"Copenhagen\")\n",
    "d = res[north, :] - res[south, :]\n",
    "rotate = np.arctan2(d[1], d[0]) - np.pi/2\n",
    "mat_rotate = np.array([[np.cos(rotate), -np.sin(rotate)],\n",
    "                       [np.sin(rotate), np.cos(rotate)]])\n",
    "res = res @ mat_rotate  # matrix product, from Python 3.5\n",
    "\n",
    "# mirror so that Reykjavik is west of Moscow\n",
    "west, east = cities.index(\"Reykjavik\"), cities.index(\"Moscow\")\n",
    "mirror = False\n",
    "if res[west, 0] > res[east, 0]:\n",
    "    mirror = True\n",
    "    res[:, 0] *= -1\n",
    "\n",
    "# apply the transformation to the full track \n",
    "track = [p.reshape((n, 2)) @ mat_rotate for p in solution[1]]\n",
    "if mirror == True:\n",
    "    track = [p * np.array([-1, 1]) for p in track]"
   ]
  },
  {
   "cell_type": "markdown",
   "metadata": {},
   "source": [
    "And now we can plot all cities coordinates with the track of convergence of their respective positions.\n",
    "\n",
    "We manually set different parameters:\n",
    "- we trim the image 10% outside the square hull of the cities' positions;\n",
    "- we use colormaps to put some sense in this spaghetti soup;\n",
    "- we manually chose label placements so as to avoid overlaps and improve readability.\n",
    "\n",
    "Note that this last item could be subject to automatic optimisation."
   ]
  },
  {
   "cell_type": "code",
   "execution_count": null,
   "metadata": {
    "scrolled": false
   },
   "outputs": [],
   "source": [
    "%matplotlib inline\n",
    "import matplotlib.pyplot as plt\n",
    "import matplotlib.cm as cm\n",
    "\n",
    "fig = plt.figure()\n",
    "fig.set_size_inches(10, 10)\n",
    "\n",
    "ax = fig.gca()\n",
    "ax.set_xticklabels([])\n",
    "ax.set_yticklabels([])\n",
    "ax.set_axis_off()\n",
    "\n",
    "# Trimming the final image\n",
    "\n",
    "bx = min(res[:, 0]), max(res[:, 0])\n",
    "dx = bx[1] - bx[0]\n",
    "ax.set_xlim(bx[0] - .1*dx, bx[1] + .1*dx)\n",
    "\n",
    "by = min(res[:, 1]), max(res[:, 1])\n",
    "dy = by[1] - by[0]\n",
    "ax.set_ylim(by[0] - .1*dy, by[1] + .1*dy)\n",
    "\n",
    "# label placement: subject to automatic optimization!\n",
    "from collections import defaultdict\n",
    "d = defaultdict(lambda: {'ha': \"left\", 'va': \"bottom\"})\n",
    "\n",
    "for city in [\"Barcelona\", \"Berlin\", \"Bucarest\", \"Budapest\",\n",
    "             \"Istanbul\", \"Prague\", \"Reykjavik\", \"Sofia\", ]:\n",
    "    d[city] = {'ha': \"left\", 'va': \"top\"}\n",
    "for city in [\"Athens\", \"London\", \"Munich\",  \"Milan\",\n",
    "             \"Stockholm\", ]:\n",
    "    d[city] = {'ha': \"right\", 'va': \"top\"}\n",
    "for city in [\"Copenhagen\", \"Dublin\", \"Edinburgh\", \"Gibraltar\",\n",
    "             \"Helsinki\", \"Lisbon\", \"Madrid\", \"Nantes\", \"Oslo\",\n",
    "             \"Paris\", \"Toulouse\", ]:\n",
    "    d[city] = {'ha': \"right\", 'va': \"bottom\"}\n",
    "    \n",
    "# automatic colouring\n",
    "colors = cm.rainbow(np.linspace(0, 1, n))\n",
    "    \n",
    "for i, ((x, y), city, color) in enumerate(zip(res, cities, colors)):\n",
    "    t = np.array([t[i, :] for t in track])\n",
    "    ax.plot(t[:, 0], t[:, 1], color=color, alpha=.2)\n",
    "    ax.scatter(x, y, color=color)\n",
    "    ax.annotate(\"  \" + city + \"  \", (x, y), **d[city])"
   ]
  },
  {
   "cell_type": "markdown",
   "metadata": {},
   "source": [
    "We can even build a nice animation!"
   ]
  },
  {
   "cell_type": "code",
   "execution_count": null,
   "metadata": {},
   "outputs": [],
   "source": [
    "from matplotlib import animation\n",
    "\n",
    "def anim_to_html(anim):\n",
    "    plt.close(anim._fig)\n",
    "    return anim.to_html5_video()\n",
    "\n",
    "animation.Animation._repr_html_ = anim_to_html\n",
    "\n",
    "fig = plt.figure(figsize=(10, 10))\n",
    "\n",
    "ax = fig.gca()\n",
    "ax.set_xticklabels([])\n",
    "ax.set_yticklabels([])\n",
    "ax.set_axis_off()\n",
    "\n",
    "ax.set_xlim(bx[0] - .1*dx, bx[1] + .1*dx)\n",
    "ax.set_ylim(by[0] - .1*dy, by[1] + .1*dy)\n",
    "\n",
    "# automatic colouring\n",
    "colors = plt.cm.rainbow(np.linspace(0, 1, n))\n",
    "  \n",
    "p = {}\n",
    "s = {}\n",
    "a = {}\n",
    "\n",
    "tmax = 1\n",
    "    \n",
    "for i, ((x, y), city, color) in enumerate(zip(res, cities, colors)):\n",
    "    t = np.array([t[i, :] for t in track])\n",
    "    p[i], = ax.plot(t[:tmax, 0], t[:tmax, 1], color=color, alpha=.2)\n",
    "    s[i], = ax.plot(t[tmax-1, 0], t[tmax-1, 1], 'o', color=color)\n",
    "    a[i] = ax.annotate(\"  \" + city + \"  \", (t[tmax-1, 0], t[tmax-1, 1]), **d[city])\n",
    "    \n",
    "def init():\n",
    "    return (*p, *s, *a)\n",
    "    \n",
    "def update(tmax) :\n",
    "    for i, ((x, y), city, color) in enumerate(zip(res, cities, colors)):\n",
    "        t = np.array([t[i, :] for t in track])\n",
    "        p[i].set_data(t[:tmax, 0], t[:tmax, 1])\n",
    "        s[i].set_data(t[tmax-1, 0], t[tmax-1, 1])\n",
    "        a[i].set_position((t[tmax-1, 0], t[tmax-1, 1]))\n",
    "    return (*p, *s, *a)\n",
    "    \n",
    "animation.FuncAnimation(fig, update, len(track), init_func=init, interval=100)\n",
    "\n"
   ]
  }
 ],
 "metadata": {
  "kernelspec": {
   "display_name": "Python 3",
   "language": "python",
   "name": "python3"
  },
  "language_info": {
   "codemirror_mode": {
    "name": "ipython",
    "version": 3
   },
   "file_extension": ".py",
   "mimetype": "text/x-python",
   "name": "python",
   "nbconvert_exporter": "python",
   "pygments_lexer": "ipython3",
   "version": "3.6.0"
  }
 },
 "nbformat": 4,
 "nbformat_minor": 2
}
